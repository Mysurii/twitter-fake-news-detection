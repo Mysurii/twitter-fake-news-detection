{
 "cells": [
  {
   "cell_type": "markdown",
   "metadata": {},
   "source": [
    "### Accuracy plots voor hoofdstukken 7 en 8 \n"
   ]
  },
  {
   "cell_type": "code",
   "execution_count": null,
   "metadata": {},
   "outputs": [],
   "source": [
    "import numpy as np\n",
    "import matplotlib.pyplot as plt"
   ]
  },
  {
   "cell_type": "code",
   "execution_count": 4,
   "metadata": {},
   "outputs": [],
   "source": [
    "# accuracy scores van data zonder feature selectie van SVM, KNN en RF\n",
    "\n",
    "acc_all = [73, 69, 73]\n",
    "acc_tweet = [66,64,69]\n",
    "acc_user = [68,70,72]"
   ]
  },
  {
   "cell_type": "code",
   "execution_count": 10,
   "metadata": {},
   "outputs": [],
   "source": [
    "def accuracy_plot(acc_all, acc_tweet, acc_user):\n",
    "    fig, axs = plt.subplots(1,3, sharex=True, sharey=True)\n",
    "\n",
    "    barwidth = 0.20\n",
    "    labels = ['SVM', 'KNN', 'RF']\n",
    "\n",
    "    # The position of the bars on the x-axis\n",
    "    r = [0,0.3,0.6]\n",
    "\n",
    "    # plot scores for fake tweets\n",
    "    axs[0].bar(r, acc_all, color='darkcyan', edgecolor='white', width=barwidth)\n",
    "    axs[0].set_ylabel('Score (%)')\n",
    "    axs[0].set_title('All', pad=-10)\n",
    "\n",
    "    # plot scores for neutral tweets\n",
    "    axs[1].bar(r, acc_tweet, color='darkcyan', edgecolor='white', width=barwidth)\n",
    "    axs[1].set_title('Tweet', pad=-10)\n",
    "\n",
    "    # plot scores for real tweets\n",
    "    axs[2].bar(r, acc_user, color='darkcyan', edgecolor='white', width=barwidth)\n",
    "    axs[2].set_title('User', pad=-10)\n",
    "\n",
    "    # Customize\n",
    "    plt.xticks(r, labels)\n",
    "    plt.yticks([0, 10, 20, 30, 40, 50, 60, 70, 80, 90, 100])\n",
    "    plt.ylim(0,100)\n",
    "    plt.show()\n",
    "\n",
    "    return"
   ]
  },
  {
   "cell_type": "code",
   "execution_count": 11,
   "metadata": {},
   "outputs": [
    {
     "data": {
      "image/png": "[encoded data removed]",
      "text/plain": [
       "<Figure size 432x288 with 3 Axes>"
      ]
     },
     "metadata": {
      "needs_background": "light"
     },
     "output_type": "display_data"
    }
   ],
   "source": [
    "# data zonder feature selectie\n",
    "accuracy_plot(acc_all, acc_tweet, acc_user)"
   ]
  },
  {
   "cell_type": "code",
   "execution_count": 12,
   "metadata": {},
   "outputs": [],
   "source": [
    "# data met feature selectie\n",
    "acc_all_selected = [70, 69, 73]\n",
    "acc_tweet_selected = [69, 66, 72]\n",
    "acc_user_selected = [72, 71, 75]"
   ]
  },
  {
   "cell_type": "code",
   "execution_count": 13,
   "metadata": {},
   "outputs": [
    {
     "data": {
      "image/png": "[encoded data removed]",
      "text/plain": [
       "<Figure size 432x288 with 3 Axes>"
      ]
     },
     "metadata": {
      "needs_background": "light"
     },
     "output_type": "display_data"
    }
   ],
   "source": [
    "accuracy_plot(acc_all_selected, acc_tweet_selected, acc_user_selected)"
   ]
  },
  {
   "cell_type": "code",
   "execution_count": null,
   "metadata": {},
   "outputs": [],
   "source": []
  }
 ],
 "metadata": {
  "interpreter": {
   "hash": "fb8cdae77e460b0b846f6d48dfd3dc6019d379538a95cc4aa5a9edd28a1c2f52"
  },
  "kernelspec": {
   "display_name": "Python 3.9.6 64-bit",
   "language": "python",
   "name": "python3"
  },
  "language_info": {
   "codemirror_mode": {
    "name": "ipython",
    "version": 3
   },
   "file_extension": ".py",
   "mimetype": "text/x-python",
   "name": "python",
   "nbconvert_exporter": "python",
   "pygments_lexer": "ipython3",
   "version": "3.9.6"
  },
  "orig_nbformat": 4
 },
 "nbformat": 4,
 "nbformat_minor": 2
}
