{
 "cells": [
  {
   "cell_type": "code",
   "execution_count": 3,
   "metadata": {
    "collapsed": true
   },
   "outputs": [],
   "source": [
    "import pandas as pd\n",
    "import warnings\n",
    "\n",
    "from sklearn import decomposition\n",
    "\n",
    "from sklearn.model_selection import GridSearchCV, cross_val_score\n",
    "\n",
    "warnings.filterwarnings('ignore')\n",
    "from sklearn.tree import DecisionTreeClassifier\n",
    "\n",
    "from sklearn.pipeline import Pipeline\n",
    "\n",
    "from sklearn.preprocessing import StandardScaler\n"
   ]
  },
  {
   "cell_type": "code",
   "execution_count": 168,
   "metadata": {
    "collapsed": false,
    "pycharm": {
     "name": "#%%\n"
    }
   },
   "outputs": [],
   "source": [
    "data = pd.read_csv('../../data/cleaned_data/all_columns.csv')"
   ]
  },
  {
   "cell_type": "markdown",
   "metadata": {
    "collapsed": false,
    "pycharm": {
     "name": "#%% md\n"
    }
   },
   "source": [
    "#### First we are going to try to find the best hyperparameters for the descision tree classifier"
   ]
  },
  {
   "cell_type": "code",
   "execution_count": 173,
   "metadata": {
    "collapsed": false,
    "pycharm": {
     "name": "#%%\n"
    }
   },
   "outputs": [],
   "source": [
    "def decision_tree_grid_search(data, drop_text_data=False):\n",
    "\n",
    "    if drop_text_data:\n",
    "        data = data.drop(['full_text', 'user_description', 'username'], axis = 1)\n",
    "\n",
    "    y = data.pop('real_fake_grade')\n",
    "\n",
    "    X = data\n",
    "\n",
    "    sc = StandardScaler()\n",
    "\n",
    "    pca = decomposition.PCA()\n",
    "\n",
    "    decisiontree = DecisionTreeClassifier()\n",
    "\n",
    "    pipe = Pipeline(steps=[('sc', sc),\n",
    "                           ('pca', pca),\n",
    "                           ('decisiontree', decisiontree)])\n",
    "\n",
    "    n_components = list(range(1,X.shape[1]+1,1))\n",
    "\n",
    "    # Create lists of parameter for Decision Tree Classifier\n",
    "    criterion = ['gini', 'entropy']\n",
    "    max_depth = [4,6,8,12]\n",
    "\n",
    "    # Create a dictionary of all the parameter options\n",
    "    parameters = dict(pca__n_components=n_components,\n",
    "                      decisiontree__criterion=criterion,\n",
    "                      decisiontree__max_depth=max_depth)\n",
    "\n",
    "    clf = GridSearchCV(pipe, parameters)\n",
    "\n",
    "    # Fit the grid search\n",
    "    clf.fit(X, y)\n",
    "\n",
    "    # View The Best Parameters\n",
    "    print('Best Criterion:', clf.best_estimator_.get_params()['decisiontree__criterion'])\n",
    "    print('Best max_depth:', clf.best_estimator_.get_params()['decisiontree__max_depth'])\n",
    "    print('Best Number Of Components:', clf.best_estimator_.get_params()['pca__n_components'])\n",
    "    print(); print(clf.best_estimator_.get_params()['decisiontree'])\n",
    "\n",
    "    # Use Cross Validation To Evaluate Model\n",
    "    cv_result = cross_val_score(clf, X, y, cv=4, n_jobs=-1)\n",
    "    print(\"Cross validation scores:\\n\"); print(cv_result)"
   ]
  },
  {
   "cell_type": "markdown",
   "metadata": {
    "collapsed": false,
    "pycharm": {
     "name": "#%% md\n"
    }
   },
   "source": [
    "1.) Random search on all the metadata."
   ]
  },
  {
   "cell_type": "code",
   "execution_count": 170,
   "metadata": {
    "collapsed": false,
    "pycharm": {
     "name": "#%%\n"
    }
   },
   "outputs": [
    {
     "name": "stdout",
     "output_type": "stream",
     "text": [
      "Best Criterion: entropy\n",
      "Best max_depth: 8\n",
      "Best Number Of Components: 31\n",
      "\n",
      "DecisionTreeClassifier(criterion='entropy', max_depth=8)\n",
      "Cross validation scores:\n",
      "\n",
      "[0.68993424 0.70495951 0.60374494 0.29807692]\n"
     ]
    }
   ],
   "source": [
    "decision_tree_grid_search(data, drop_text_data=True)"
   ]
  },
  {
   "cell_type": "markdown",
   "metadata": {
    "collapsed": false,
    "pycharm": {
     "name": "#%% md\n"
    }
   },
   "source": [
    "#### 2. tweet_data_columns"
   ]
  },
  {
   "cell_type": "code",
   "execution_count": 174,
   "metadata": {
    "collapsed": false,
    "pycharm": {
     "name": "#%%\n"
    }
   },
   "outputs": [
    {
     "name": "stdout",
     "output_type": "stream",
     "text": [
      "Best Criterion: gini\n",
      "Best max_depth: 8\n",
      "Best Number Of Components: 15\n",
      "\n",
      "DecisionTreeClassifier(max_depth=8)\n",
      "Cross validation scores:\n",
      "\n",
      "[0.58877086 0.61336032 0.57236842 0.52580972]\n"
     ]
    }
   ],
   "source": [
    "tweet_data = pd.read_csv('../../data/cleaned_data/tweet_data_columns.csv')\n",
    "tweet_data = tweet_data.drop('Unnamed: 0', axis=1)\n",
    "decision_tree_grid_search(tweet_data)"
   ]
  },
  {
   "cell_type": "markdown",
   "metadata": {
    "collapsed": false,
    "pycharm": {
     "name": "#%% md\n"
    }
   },
   "source": [
    "#### 3. User_data_columns"
   ]
  },
  {
   "cell_type": "code",
   "execution_count": 175,
   "metadata": {
    "collapsed": false,
    "pycharm": {
     "name": "#%%\n"
    }
   },
   "outputs": [
    {
     "name": "stdout",
     "output_type": "stream",
     "text": [
      "Best Criterion: entropy\n",
      "Best max_depth: 6\n",
      "Best Number Of Components: 30\n",
      "\n",
      "DecisionTreeClassifier(criterion='entropy', max_depth=6)\n",
      "Cross validation scores:\n",
      "\n",
      "[0.74152757 0.77125506 0.62550607 0.36538462]\n"
     ]
    }
   ],
   "source": [
    "user_data = pd.read_csv('../../data/cleaned_data/user_data_columns.csv')\n",
    "user_data = user_data.drop('Unnamed: 0', axis = 1)\n",
    "decision_tree_grid_search(user_data)"
   ]
  },
  {
   "cell_type": "markdown",
   "metadata": {
    "collapsed": false,
    "pycharm": {
     "name": "#%% md\n"
    }
   },
   "source": [
    "#### Predictions with new hyperparameters."
   ]
  },
  {
   "cell_type": "code",
   "execution_count": 8,
   "metadata": {
    "collapsed": false,
    "pycharm": {
     "name": "#%%\n"
    }
   },
   "outputs": [],
   "source": [
    "def decision_tree_specific_search(data, dt_criterion, dt_max_depth, dt_components, drop_text_data=False):\n",
    "\n",
    "    if drop_text_data:\n",
    "        data = data.drop(['full_text', 'user_description', 'username'], axis = 1)\n",
    "\n",
    "    y = data.pop('real_fake_grade')\n",
    "\n",
    "    X = data\n",
    "\n",
    "    sc = StandardScaler()\n",
    "\n",
    "    pca = decomposition.PCA()\n",
    "\n",
    "    decisiontree = DecisionTreeClassifier()\n",
    "\n",
    "    pipe = Pipeline(steps=[('sc', sc),\n",
    "                           ('pca', pca),\n",
    "                           ('decisiontree', decisiontree)])\n",
    "\n",
    "    parameters = dict(pca__n_components=dt_components,\n",
    "                      decisiontree__criterion=dt_criterion,\n",
    "                      decisiontree__max_depth=dt_max_depth)\n",
    "\n",
    "\n",
    "    clf = GridSearchCV(pipe, parameters)\n",
    "\n",
    "\n",
    "    clf.fit(X, y)\n",
    "\n",
    "    print(\"Accuracy score was: {}\".format(clf.score(X, y)))"
   ]
  },
  {
   "cell_type": "markdown",
   "metadata": {
    "collapsed": false,
    "pycharm": {
     "name": "#%% md\n"
    }
   },
   "source": [
    "### All the metadata"
   ]
  },
  {
   "cell_type": "code",
   "execution_count": 7,
   "metadata": {
    "collapsed": false,
    "pycharm": {
     "name": "#%%\n"
    }
   },
   "outputs": [
    {
     "name": "stdout",
     "output_type": "stream",
     "text": [
      "Accuracy score was: 0.6894370651486401\n"
     ]
    }
   ],
   "source": [
    "all_data = pd.read_csv('../../data/cleaned_data/all_columns.csv')\n",
    "\n",
    "decision_tree_specific_search(all_data, dt_max_depth=[8], dt_components=[31], dt_criterion=[\"entropy\"], drop_text_data=True)"
   ]
  },
  {
   "cell_type": "markdown",
   "metadata": {
    "collapsed": false
   },
   "source": [
    "### tweet data"
   ]
  },
  {
   "cell_type": "code",
   "execution_count": 215,
   "metadata": {
    "collapsed": false,
    "pycharm": {
     "name": "#%%\n"
    }
   },
   "outputs": [
    {
     "name": "stdout",
     "output_type": "stream",
     "text": [
      "Accuracy score was: 0.7013282732447818\n"
     ]
    }
   ],
   "source": [
    "tweet_data = pd.read_csv('../../data/cleaned_data/tweet_data_columns.csv')\n",
    "tweet_data = tweet_data.drop('Unnamed: 0', axis=1)\n",
    "decision_tree_specific_search(tweet_data, dt_max_depth=[8], dt_components=[15], dt_criterion=[\"gini\"])"
   ]
  },
  {
   "cell_type": "markdown",
   "metadata": {
    "collapsed": false,
    "pycharm": {
     "name": "#%% md\n"
    }
   },
   "source": [
    "### all user data\n"
   ]
  },
  {
   "cell_type": "code",
   "execution_count": 216,
   "metadata": {
    "collapsed": false,
    "pycharm": {
     "name": "#%%\n"
    }
   },
   "outputs": [
    {
     "name": "stdout",
     "output_type": "stream",
     "text": [
      "Accuracy score was: 0.6884250474383302\n"
     ]
    }
   ],
   "source": [
    "user_data = pd.read_csv('../../data/cleaned_data/user_data_columns.csv')\n",
    "user_data = user_data.drop('Unnamed: 0', axis = 1)\n",
    "decision_tree_specific_search(user_data, dt_max_depth=[6],  dt_components=[30], dt_criterion=[\"entropy\"])"
   ]
  }
 ],
 "metadata": {
  "kernelspec": {
   "display_name": "Python 3",
   "language": "python",
   "name": "python3"
  },
  "language_info": {
   "codemirror_mode": {
    "name": "ipython",
    "version": 2
   },
   "file_extension": ".py",
   "mimetype": "text/x-python",
   "name": "python",
   "nbconvert_exporter": "python",
   "pygments_lexer": "ipython2",
   "version": "2.7.6"
  }
 },
 "nbformat": 4,
 "nbformat_minor": 0
}
