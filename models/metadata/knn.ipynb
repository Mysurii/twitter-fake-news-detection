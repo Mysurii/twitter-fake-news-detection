{
 "cells": [
  {
   "cell_type": "markdown",
   "metadata": {},
   "source": [
    "## KNN\n",
    "\n",
    "In dit notebook wordt een KNN model gefit op de metadata zonder tekst. In het script cleanup.ipynb zijn verschillende csv bestanden gemaakt die verschillende groepen metadata bevatten. In dit script worden deze afzonderlijke csv's gebruikt om te kijken hoe de prestaties onderling verschillen.\n",
    "\n",
    "Vervolgens worden de csv's uit feature_selection.ipynb gebruikt om mee te vergelijken. Deze csv's bevatten minder features omdat er op basis van de analyses in feature_selection.ipynb variabelen verwijderd zijn. "
   ]
  },
  {
   "cell_type": "code",
   "execution_count": 2,
   "metadata": {},
   "outputs": [],
   "source": [
    "import pandas as pd\n",
    "import warnings\n",
    "import numpy as np\n",
    "import matplotlib.pyplot as plt\n",
    "warnings.filterwarnings('ignore')\n",
    "\n",
    "from sklearn.neighbors import KNeighborsClassifier\n",
    "\n",
    "from sklearn.svm import SVC\n",
    "from sklearn.model_selection import train_test_split, RandomizedSearchCV, GridSearchCV\n",
    "from sklearn.preprocessing import StandardScaler\n",
    "from sklearn.metrics import accuracy_score, make_scorer, precision_score, recall_score, classification_report\n",
    "from sklearn.inspection import permutation_importance"
   ]
  },
  {
   "cell_type": "code",
   "execution_count": 2,
   "metadata": {},
   "outputs": [],
   "source": [
    "\n",
    "all_data = pd.read_csv('../../data/cleaned_data/all_columns.csv')"
   ]
  },
  {
   "cell_type": "code",
   "execution_count": 3,
   "metadata": {},
   "outputs": [],
   "source": [
    "# should only contain metadata columns, texts are not part of them\n",
    "all_data = all_data.drop(['Unnamed: 0', 'full_text', 'user_description', 'username'], axis = 1)"
   ]
  },
  {
   "cell_type": "code",
   "execution_count": 2,
   "metadata": {},
   "outputs": [],
   "source": [
    "def RandomSearchKNN(data):\n",
    "    \"\"\"Splits the data into x_train, x_test, y_train, y_test, performs a randomsearch on KNN and calculates the accuracy score using\n",
    "       the best parameters.\"\"\"\n",
    "       \n",
    "    # select x and y from data\n",
    "    y = data.pop('real_fake_grade')\n",
    "    x = data\n",
    "\n",
    "    # scale variables\n",
    "    x = StandardScaler().fit_transform(x)\n",
    "\n",
    "    # split into train and test\n",
    "    x_train, x_test, y_train, y_test = train_test_split(x, y, test_size=0.20, random_state=42, stratify=y)\n",
    "\n",
    "    # perform Random Search with 7-fold CV and scoring on accuracy\n",
    "    knn_rs = RandomizedSearchCV(KNeighborsClassifier(), \n",
    "                          param_distributions = {'weights': ['uniform', 'distance'], 'n_neighbors': [5,10,15]},\n",
    "                          cv = 7,\n",
    "                          scoring = make_scorer(accuracy_score)) \n",
    "\n",
    "    # fit the model\n",
    "    knn_rs.fit(x_train, y_train)\n",
    "    print('Best parameters:\\n', knn_rs.best_params_)\n",
    "    print()\n",
    "\n",
    "    # make prediction with best parameters\n",
    "    y_pred = knn_rs.best_estimator_.predict(x_test)\n",
    "\n",
    "     # calculate accuracy score, precision and recall\n",
    "    print('Accuracy score:', accuracy_score(y_test, y_pred))\n",
    "    print('precision score:', precision_score(y_test, y_pred, average = 'macro')) # unweighted mean of all classes\n",
    "    print('recall score:', recall_score(y_test, y_pred, average = 'macro')) # unweighted mean of all classes\n",
    "\n",
    "    # classification report\n",
    "    report = classification_report(y_test, y_pred, output_dict=True)\n",
    "    report_df = pd.DataFrame(report).transpose()\n",
    "    print(report_df)"
   ]
  },
  {
   "cell_type": "markdown",
   "metadata": {},
   "source": [
    "#### All metadata columns"
   ]
  },
  {
   "cell_type": "code",
   "execution_count": null,
   "metadata": {},
   "outputs": [],
   "source": [
    "\n",
    "all_data = pd.read_csv('../../data/cleaned_data/all_columns.csv')"
   ]
  },
  {
   "cell_type": "code",
   "execution_count": null,
   "metadata": {},
   "outputs": [],
   "source": [
    "# should only contain metadata columns, texts are not part of them\n",
    "all_data = all_data.drop(['Unnamed: 0', 'full_text', 'user_description', 'username'], axis = 1)"
   ]
  },
  {
   "cell_type": "code",
   "execution_count": 5,
   "metadata": {},
   "outputs": [
    {
     "name": "stdout",
     "output_type": "stream",
     "text": [
      "Best paramaters:\n",
      " {'weights': 'distance', 'n_neighbors': 15}\n",
      "\n",
      "Accuracy score: 0.6881720430107527\n"
     ]
    }
   ],
   "source": [
    "RandomSearchKNN(all_data)"
   ]
  },
  {
   "cell_type": "markdown",
   "metadata": {},
   "source": [
    "#### Tweet data"
   ]
  },
  {
   "cell_type": "code",
   "execution_count": 6,
   "metadata": {},
   "outputs": [],
   "source": [
    "tweet_data = pd.read_csv('../../data/cleaned_data/tweet_data_columns.csv')"
   ]
  },
  {
   "cell_type": "code",
   "execution_count": 8,
   "metadata": {},
   "outputs": [],
   "source": [
    "tweet_data = tweet_data.drop('Unnamed: 0', axis = 1)"
   ]
  },
  {
   "cell_type": "code",
   "execution_count": 9,
   "metadata": {},
   "outputs": [
    {
     "name": "stdout",
     "output_type": "stream",
     "text": [
      "Best paramaters:\n",
      " {'weights': 'distance', 'n_neighbors': 15}\n",
      "\n",
      "Accuracy score: 0.6394686907020873\n"
     ]
    }
   ],
   "source": [
    "RandomSearchKNN(tweet_data)"
   ]
  },
  {
   "cell_type": "markdown",
   "metadata": {},
   "source": [
    "### User Data"
   ]
  },
  {
   "cell_type": "code",
   "execution_count": 10,
   "metadata": {},
   "outputs": [],
   "source": [
    "user_data = pd.read_csv('../../data/cleaned_data/user_data_columns.csv')\n",
    "user_data = user_data.drop('Unnamed: 0', axis = 1)"
   ]
  },
  {
   "cell_type": "code",
   "execution_count": 11,
   "metadata": {},
   "outputs": [
    {
     "name": "stdout",
     "output_type": "stream",
     "text": [
      "Best paramaters:\n",
      " {'weights': 'distance', 'n_neighbors': 15}\n",
      "\n",
      "Accuracy score: 0.7020872865275142\n"
     ]
    }
   ],
   "source": [
    "RandomSearchKNN(user_data)"
   ]
  },
  {
   "cell_type": "markdown",
   "metadata": {},
   "source": [
    "## Resultaten op data met feature selection\n",
    "\n",
    "De datasets die hieronder gebruikt worden zijn afkomstig van het script feature_selection.ipynb.\n",
    "\n",
    "#### All data selected"
   ]
  },
  {
   "cell_type": "code",
   "execution_count": 3,
   "metadata": {},
   "outputs": [
    {
     "name": "stdout",
     "output_type": "stream",
     "text": [
      "Best parameters:\n",
      " {'weights': 'distance', 'n_neighbors': 15}\n",
      "\n",
      "Accuracy score: 0.6888045540796964\n",
      "precision score: 0.5816076416270174\n",
      "recall score: 0.5023909402272569\n",
      "              precision    recall  f1-score      support\n",
      "-1.0           0.640394  0.552017  0.592930   471.000000\n",
      "0.0            0.388889  0.076923  0.128440   182.000000\n",
      "1.0            0.715540  0.878233  0.788582   928.000000\n",
      "accuracy       0.688805  0.688805  0.688805     0.688805\n",
      "macro avg      0.581608  0.502391  0.503318  1581.000000\n",
      "weighted avg   0.655550  0.688805  0.654302  1581.000000\n"
     ]
    }
   ],
   "source": [
    "all_data_selected = pd.read_csv('../../data/selected_data/all_data_selected.csv')\n",
    "all_data_selected = all_data_selected.drop([ 'Unnamed: 0', 'full_text', 'user_description', 'username'], axis = 1)\n",
    "RandomSearchKNN(all_data_selected)"
   ]
  },
  {
   "cell_type": "markdown",
   "metadata": {},
   "source": [
    "#### Permutation importance all data selected"
   ]
  },
  {
   "cell_type": "code",
   "execution_count": 5,
   "metadata": {},
   "outputs": [
    {
     "data": {
      "image/png": "[encoded data removed]",
      "text/plain": [
       "<Figure size 432x288 with 1 Axes>"
      ]
     },
     "metadata": {
      "needs_background": "light"
     },
     "output_type": "display_data"
    }
   ],
   "source": [
    "all_data_selected = pd.read_csv('../../data/selected_data/all_data_selected.csv')\n",
    "all_data_selected = all_data_selected.drop([ 'Unnamed: 0', 'full_text', 'user_description', 'username'], axis = 1)\n",
    "\n",
    "# select x and y from data\n",
    "y = all_data_selected.pop('real_fake_grade')\n",
    "x = all_data_selected\n",
    "x = StandardScaler().fit_transform(x)\n",
    "\n",
    "# split into train and test\n",
    "x_train, x_test, y_train, y_test = train_test_split(x, y, test_size=0.20, random_state=42, stratify=y)\n",
    "\n",
    "model = KNeighborsClassifier(weights='distance', n_neighbors=15).fit(x_train, y_train) # zelfde parameter waarden als uit _best_params_ van randomsearch\n",
    "\n",
    "result = permutation_importance(\n",
    "    model, x_test, y_test, n_repeats=10, random_state=42, n_jobs=2,\n",
    ")\n",
    "\n",
    "sorted_importances_idx = result.importances_mean.argsort()\n",
    "importances = pd.DataFrame(\n",
    "    result.importances[sorted_importances_idx].T,\n",
    "    columns=all_data_selected.columns[sorted_importances_idx],\n",
    ")\n",
    "\n",
    "\n",
    "importances = importances.iloc[:,30:]\n",
    "\n",
    "ax = importances.plot.box(vert=False, whis=10)\n",
    "ax.set_title(\"Permutation Importances KNN voor all data selected\")\n",
    "ax.axvline(x=0, color=\"k\", linestyle=\"--\")\n",
    "ax.set_xlabel(\"Decrease in accuracy score\")\n",
    "ax.figure.tight_layout()\n",
    "plt.xlim(0,0.03)\n",
    "\n",
    "plt.show()"
   ]
  },
  {
   "cell_type": "markdown",
   "metadata": {},
   "source": [
    "#### Tweet data selected"
   ]
  },
  {
   "cell_type": "code",
   "execution_count": 4,
   "metadata": {},
   "outputs": [
    {
     "name": "stdout",
     "output_type": "stream",
     "text": [
      "Best parameters:\n",
      " {'weights': 'distance', 'n_neighbors': 15}\n",
      "\n",
      "Accuracy score: 0.6552814674256799\n",
      "precision score: 0.5350358227079538\n",
      "recall score: 0.48952014457587706\n",
      "              precision    recall  f1-score      support\n",
      "-1.0           0.620219  0.481953  0.542413   471.000000\n",
      "0.0            0.288889  0.142857  0.191176   182.000000\n",
      "1.0            0.696000  0.843750  0.762786   928.000000\n",
      "accuracy       0.655281  0.655281  0.655281     0.655281\n",
      "macro avg      0.535036  0.489520  0.498792  1581.000000\n",
      "weighted avg   0.626558  0.655281  0.631332  1581.000000\n"
     ]
    }
   ],
   "source": [
    "tweet_data_selected = pd.read_csv('../../data/selected_data/tweet_data_selected.csv')\n",
    "RandomSearchKNN(tweet_data_selected)\n"
   ]
  },
  {
   "cell_type": "markdown",
   "metadata": {},
   "source": [
    "#### User data selected\n"
   ]
  },
  {
   "cell_type": "code",
   "execution_count": 5,
   "metadata": {},
   "outputs": [
    {
     "name": "stdout",
     "output_type": "stream",
     "text": [
      "Best parameters:\n",
      " {'weights': 'distance', 'n_neighbors': 15}\n",
      "\n",
      "Accuracy score: 0.7052498418722327\n",
      "precision score: 0.5975206854673973\n",
      "recall score: 0.5534525348178434\n",
      "              precision    recall  f1-score     support\n",
      "-1.0           0.716749  0.617834  0.663626   471.00000\n",
      "0.0            0.339806  0.192308  0.245614   182.00000\n",
      "1.0            0.736007  0.850216  0.789000   928.00000\n",
      "accuracy       0.705250  0.705250  0.705250     0.70525\n",
      "macro avg      0.597521  0.553453  0.566080  1581.00000\n",
      "weighted avg   0.684661  0.705250  0.689097  1581.00000\n"
     ]
    }
   ],
   "source": [
    "user_data_selected = pd.read_csv('../../data/selected_data/user_data_selected.csv')\n",
    "RandomSearchKNN(user_data_selected)\n"
   ]
  }
 ],
 "metadata": {
  "interpreter": {
   "hash": "fb8cdae77e460b0b846f6d48dfd3dc6019d379538a95cc4aa5a9edd28a1c2f52"
  },
  "kernelspec": {
   "display_name": "Python 3.9.6 64-bit",
   "language": "python",
   "name": "python3"
  },
  "language_info": {
   "codemirror_mode": {
    "name": "ipython",
    "version": 3
   },
   "file_extension": ".py",
   "mimetype": "text/x-python",
   "name": "python",
   "nbconvert_exporter": "python",
   "pygments_lexer": "ipython3",
   "version": "3.9.6"
  },
  "orig_nbformat": 4
 },
 "nbformat": 4,
 "nbformat_minor": 2
}
