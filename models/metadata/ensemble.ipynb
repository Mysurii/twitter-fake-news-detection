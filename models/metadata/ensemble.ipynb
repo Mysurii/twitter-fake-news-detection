{
 "cells": [
  {
   "cell_type": "markdown",
   "metadata": {},
   "source": [
    "## Ensemble\n",
    "In dit notebook wordt een Ensemble model gefit op de metadata zonder tekst. In het script preprocessing_2022.ipynb zijn verschillende csv bestanden gemaakt die verschillende groepen metadata bevatten. In dit script worden deze afzonderlijke csv's gebruikt om te kijken hoe de prestaties onderling verschillen. \n",
    "\n",
    "Vervolgens worden de csv's uit feature_selection.ipynb gebruikt om mee te vergelijken. "
   ]
  },
  {
   "cell_type": "code",
   "execution_count": 1,
   "metadata": {},
   "outputs": [],
   "source": [
    "import pandas as pd\n",
    "import warnings\n",
    "import numpy as np\n",
    "import matplotlib.pyplot as plt\n",
    "warnings.filterwarnings('ignore')\n",
    "\n",
    "from sklearn.neighbors import KNeighborsClassifier\n",
    "from sklearn.ensemble import RandomForestClassifier\n",
    "\n",
    "from sklearn.svm import SVC\n",
    "from sklearn.model_selection import train_test_split, RandomizedSearchCV, GridSearchCV\n",
    "from sklearn.preprocessing import StandardScaler\n",
    "from sklearn.metrics import accuracy_score, make_scorer, precision_score, recall_score, classification_report\n",
    "from sklearn.inspection import permutation_importance\n",
    "from sklearn.ensemble import VotingClassifier\n",
    "from sklearn.model_selection import cross_val_score\n"
   ]
  },
  {
   "cell_type": "markdown",
   "metadata": {},
   "source": [
    "#### 1. all metadata"
   ]
  },
  {
   "cell_type": "code",
   "execution_count": 40,
   "metadata": {},
   "outputs": [],
   "source": [
    "\n",
    "all_data = pd.read_csv('../../data/cleaned_data/all_columns.csv')\n",
    "# should only contain metadata columns, texts are not part of them\n",
    "all_data = all_data.drop(['Unnamed: 0', 'full_text', 'user_description', 'username'], axis = 1)"
   ]
  },
  {
   "cell_type": "code",
   "execution_count": 41,
   "metadata": {},
   "outputs": [],
   "source": [
    "    # select x and y from data\n",
    "    y = all_data.pop('real_fake_grade')\n",
    "    x = all_data\n",
    "\n",
    "    # scale variables\n",
    "    x = StandardScaler().fit_transform(x)"
   ]
  },
  {
   "cell_type": "code",
   "execution_count": 42,
   "metadata": {},
   "outputs": [],
   "source": [
    " x_train, x_test, y_train, y_test = train_test_split(x, y, test_size=0.20, random_state=42, stratify=y)"
   ]
  },
  {
   "cell_type": "code",
   "execution_count": 43,
   "metadata": {},
   "outputs": [
    {
     "name": "stdout",
     "output_type": "stream",
     "text": [
      "Hard Voting Score % 0.7381404174573055\n",
      "Soft Voting Score % 0.734977862112587\n"
     ]
    }
   ],
   "source": [
    "estimator = []\n",
    "estimator.append(('SVM', SVC(kernel='rbf', C=1, probability=True)))\n",
    "estimator.append(('KNN', KNeighborsClassifier(n_neighbors=15, weights='distance')))\n",
    "estimator.append(('RFC', RandomForestClassifier(min_samples_split=10, criterion='entropy')))\n",
    "  \n",
    "# Voting Classifier with hard voting\n",
    "vot_hard = VotingClassifier(estimators = estimator, voting ='hard')\n",
    "vot_hard.fit(x_train, y_train)\n",
    "y_pred = vot_hard.predict(x_test)\n",
    "  \n",
    "# using accuracy_score metric to predict accuracy\n",
    "score = accuracy_score(y_test, y_pred)\n",
    "print(\"Hard Voting Score %\",score)\n",
    "\n",
    "# Voting Classifier with soft voting\n",
    "vot_soft = VotingClassifier(estimators = estimator, voting ='soft')\n",
    "vot_soft.fit(x_train, y_train)\n",
    "y_pred = vot_soft.predict(x_test)\n",
    "  \n",
    "# using accuracy_score\n",
    "score = accuracy_score(y_test, y_pred)\n",
    "print(\"Soft Voting Score %\",score)\n"
   ]
  },
  {
   "cell_type": "markdown",
   "metadata": {},
   "source": [
    "#### 2. Tweet_data_columns"
   ]
  },
  {
   "cell_type": "code",
   "execution_count": 45,
   "metadata": {},
   "outputs": [],
   "source": [
    "tweet_data = pd.read_csv('../../data/cleaned_data/tweet_data_columns.csv')\n",
    "tweet_data = tweet_data.drop('Unnamed: 0', axis = 1)"
   ]
  },
  {
   "cell_type": "code",
   "execution_count": 46,
   "metadata": {},
   "outputs": [],
   "source": [
    "y = tweet_data.pop('real_fake_grade')\n",
    "x = tweet_data\n",
    "\n",
    "# scale variables\n",
    "x = StandardScaler().fit_transform(x)"
   ]
  },
  {
   "cell_type": "code",
   "execution_count": 47,
   "metadata": {},
   "outputs": [],
   "source": [
    "x_train, x_test, y_train, y_test = train_test_split(x, y, test_size=0.20, random_state=42, stratify=y)"
   ]
  },
  {
   "cell_type": "code",
   "execution_count": 48,
   "metadata": {},
   "outputs": [
    {
     "name": "stdout",
     "output_type": "stream",
     "text": [
      "Hard Voting Score % 0.6527514231499051\n",
      "Soft Voting Score % 0.6571790006325111\n"
     ]
    }
   ],
   "source": [
    "estimator = []\n",
    "estimator.append(('SVM', SVC(kernel='rbf', C=2, probability=True)))\n",
    "estimator.append(('KNN', KNeighborsClassifier(n_neighbors=15, weights='distance')))\n",
    "estimator.append(('RFC', RandomForestClassifier(min_samples_split=20, criterion='gini')))\n",
    "  \n",
    "# Voting Classifier with hard voting\n",
    "vot_hard = VotingClassifier(estimators = estimator, voting ='hard')\n",
    "vot_hard.fit(x_train, y_train)\n",
    "y_pred = vot_hard.predict(x_test)\n",
    "  \n",
    "# using accuracy_score metric to predict accuracy\n",
    "score = accuracy_score(y_test, y_pred)\n",
    "print(\"Hard Voting Score %\",score)\n",
    "\n",
    "# Voting Classifier with soft voting\n",
    "vot_soft = VotingClassifier(estimators = estimator, voting ='soft')\n",
    "vot_soft.fit(x_train, y_train)\n",
    "y_pred = vot_soft.predict(x_test)\n",
    "  \n",
    "# using accuracy_score\n",
    "score = accuracy_score(y_test, y_pred)\n",
    "print(\"Soft Voting Score %\",score)\n"
   ]
  },
  {
   "cell_type": "markdown",
   "metadata": {},
   "source": [
    "#### 3. User_data_columns"
   ]
  },
  {
   "cell_type": "code",
   "execution_count": 6,
   "metadata": {},
   "outputs": [],
   "source": [
    "user_data = pd.read_csv('../../data/cleaned_data/user_data_columns.csv')\n",
    "user_data = user_data.drop('Unnamed: 0', axis = 1)\n",
    "# select x and y from data\n",
    "y = user_data.pop('real_fake_grade')\n",
    "x = user_data\n",
    "\n",
    "# scale variables\n",
    "x = StandardScaler().fit_transform(x)\n",
    "x_train, x_test, y_train, y_test = train_test_split(x, y, test_size=0.20, random_state=42, stratify=y)"
   ]
  },
  {
   "cell_type": "code",
   "execution_count": 7,
   "metadata": {},
   "outputs": [
    {
     "name": "stdout",
     "output_type": "stream",
     "text": [
      "Hard Voting Score % 0.7141049968374447\n",
      "Soft Voting Score % 0.7141049968374447\n"
     ]
    }
   ],
   "source": [
    "estimator = []\n",
    "estimator.append(('SVM', SVC(kernel='rbf', C=1, probability=True)))\n",
    "estimator.append(('KNN', KNeighborsClassifier(n_neighbors=15, weights='distance')))\n",
    "estimator.append(('RFC', RandomForestClassifier(min_samples_split=10, criterion='entropy')))\n",
    "  \n",
    "# Voting Classifier with hard voting\n",
    "vot_hard = VotingClassifier(estimators = estimator, voting ='hard')\n",
    "vot_hard.fit(x_train, y_train)\n",
    "y_pred = vot_hard.predict(x_test)\n",
    "  \n",
    "# using accuracy_score metric to predict accuracy\n",
    "score = accuracy_score(y_test, y_pred)\n",
    "print(\"Hard Voting Score %\",score)\n",
    "\n",
    "# Voting Classifier with soft voting\n",
    "vot_soft = VotingClassifier(estimators = estimator, voting ='soft')\n",
    "vot_soft.fit(x_train, y_train)\n",
    "y_pred = vot_soft.predict(x_test)\n",
    "  \n",
    "# using accuracy_score\n",
    "score = accuracy_score(y_test, y_pred)\n",
    "print(\"Soft Voting Score %\",score)"
   ]
  },
  {
   "cell_type": "markdown",
   "metadata": {},
   "source": [
    "## Resultaten op data met feature selection\n",
    "\n",
    "De datasets die hieronder gebruikt worden zijn afkomstig van het script feature_selection.ipynb.\n",
    "\n",
    "#### All data selected"
   ]
  },
  {
   "cell_type": "code",
   "execution_count": 11,
   "metadata": {},
   "outputs": [],
   "source": [
    "all_data_selected = pd.read_csv('../../data/selected_data/all_data_selected.csv')\n",
    "all_data_selected = all_data_selected.drop([ 'Unnamed: 0', 'full_text', 'user_description', 'username'], axis = 1)\n",
    "# select x and y from data\n",
    "y = all_data_selected.pop('real_fake_grade')\n",
    "x = all_data_selected\n",
    "\n",
    "# scale variables\n",
    "x = StandardScaler().fit_transform(x)\n",
    "x_train, x_test, y_train, y_test = train_test_split(x, y, test_size=0.20, random_state=42, stratify=y)"
   ]
  },
  {
   "cell_type": "code",
   "execution_count": 13,
   "metadata": {},
   "outputs": [
    {
     "name": "stdout",
     "output_type": "stream",
     "text": [
      "Hard Voting Score % 0.7330803289057558\n",
      "Soft Voting Score % 0.7394054395951929\n"
     ]
    }
   ],
   "source": [
    "estimator = []\n",
    "estimator.append(('SVM', SVC(kernel='rbf', C=1, probability=True)))\n",
    "estimator.append(('KNN', KNeighborsClassifier(n_neighbors=15, weights='distance')))\n",
    "estimator.append(('RFC', RandomForestClassifier(min_samples_split=10, criterion='entropy')))\n",
    "  \n",
    "# Voting Classifier with hard voting\n",
    "vot_hard = VotingClassifier(estimators = estimator, voting ='hard')\n",
    "vot_hard.fit(x_train, y_train)\n",
    "y_pred = vot_hard.predict(x_test)\n",
    "  \n",
    "# using accuracy_score metric to predict accuracy\n",
    "score = accuracy_score(y_test, y_pred)\n",
    "print(\"Hard Voting Score %\",score)\n",
    "\n",
    "# Voting Classifier with soft voting\n",
    "vot_soft = VotingClassifier(estimators = estimator, voting ='soft')\n",
    "vot_soft.fit(x_train, y_train)\n",
    "y_pred = vot_soft.predict(x_test)\n",
    "  \n",
    "# using accuracy_score\n",
    "score = accuracy_score(y_test, y_pred)\n",
    "print(\"Soft Voting Score %\",score)\n"
   ]
  },
  {
   "cell_type": "markdown",
   "metadata": {},
   "source": [
    "#### Tweet data selected"
   ]
  },
  {
   "cell_type": "code",
   "execution_count": 14,
   "metadata": {},
   "outputs": [],
   "source": [
    "tweet_data_selected = pd.read_csv('../../data/selected_data/tweet_data_selected.csv')\n",
    "tweet_data_selected = tweet_data_selected.drop(['Unnamed: 0', 'Unnamed: 0.1'], axis = 1)\n",
    "y = tweet_data_selected.pop('real_fake_grade')\n",
    "x = tweet_data_selected\n",
    "x = StandardScaler().fit_transform(x)\n",
    "\n",
    "# split into train and test\n",
    "x_train, x_test, y_train, y_test = train_test_split(x, y, test_size=0.20, random_state=42, stratify=y)"
   ]
  },
  {
   "cell_type": "code",
   "execution_count": 15,
   "metadata": {},
   "outputs": [
    {
     "name": "stdout",
     "output_type": "stream",
     "text": [
      "Hard Voting Score % 0.6388361796331435\n",
      "Soft Voting Score % 0.6388361796331435\n"
     ]
    }
   ],
   "source": [
    "estimator = []\n",
    "estimator.append(('SVM', SVC(kernel='rbf', C=2, probability=True)))\n",
    "estimator.append(('KNN', KNeighborsClassifier(n_neighbors=15, weights='distance')))\n",
    "estimator.append(('RFC', RandomForestClassifier(min_samples_split=20, criterion='gini')))\n",
    "  \n",
    "# Voting Classifier with hard voting\n",
    "vot_hard = VotingClassifier(estimators = estimator, voting ='hard')\n",
    "vot_hard.fit(x_train, y_train)\n",
    "y_pred = vot_hard.predict(x_test)\n",
    "  \n",
    "# using accuracy_score metric to predict accuracy\n",
    "score = accuracy_score(y_test, y_pred)\n",
    "print(\"Hard Voting Score %\",score)\n",
    "\n",
    "# Voting Classifier with soft voting\n",
    "vot_soft = VotingClassifier(estimators = estimator, voting ='soft')\n",
    "vot_soft.fit(x_train, y_train)\n",
    "y_pred = vot_soft.predict(x_test)\n",
    "  \n",
    "# using accuracy_score\n",
    "score = accuracy_score(y_test, y_pred)\n",
    "print(\"Soft Voting Score %\",score)"
   ]
  },
  {
   "cell_type": "markdown",
   "metadata": {},
   "source": [
    "#### User data selected"
   ]
  },
  {
   "cell_type": "code",
   "execution_count": 16,
   "metadata": {},
   "outputs": [],
   "source": [
    "user_data_selected = pd.read_csv('../../data/selected_data/user_data_selected.csv')\n",
    "user_data_selected = user_data_selected.drop(['Unnamed: 0', 'Unnamed: 0.1'], axis = 1)\n",
    "# select x and y from data\n",
    "y = user_data_selected.pop('real_fake_grade')\n",
    "x = user_data_selected\n",
    "x = StandardScaler().fit_transform(x)\n",
    "\n",
    "# split into train and test\n",
    "x_train, x_test, y_train, y_test = train_test_split(x, y, test_size=0.20, random_state=42, stratify=y)"
   ]
  },
  {
   "cell_type": "code",
   "execution_count": 17,
   "metadata": {},
   "outputs": [
    {
     "name": "stdout",
     "output_type": "stream",
     "text": [
      "Hard Voting Score % 0.713472485768501\n",
      "Soft Voting Score % 0.724225173940544\n"
     ]
    }
   ],
   "source": [
    "estimator = []\n",
    "estimator.append(('SVM', SVC(kernel='rbf', C=1, probability=True)))\n",
    "estimator.append(('KNN', KNeighborsClassifier(n_neighbors=15, weights='distance')))\n",
    "estimator.append(('RFC', RandomForestClassifier(min_samples_split=10, criterion='entropy')))\n",
    "  \n",
    "# Voting Classifier with hard voting\n",
    "vot_hard = VotingClassifier(estimators = estimator, voting ='hard')\n",
    "vot_hard.fit(x_train, y_train)\n",
    "y_pred = vot_hard.predict(x_test)\n",
    "  \n",
    "# using accuracy_score metric to predict accuracy\n",
    "score = accuracy_score(y_test, y_pred)\n",
    "print(\"Hard Voting Score %\",score)\n",
    "\n",
    "# Voting Classifier with soft voting\n",
    "vot_soft = VotingClassifier(estimators = estimator, voting ='soft')\n",
    "vot_soft.fit(x_train, y_train)\n",
    "y_pred = vot_soft.predict(x_test)\n",
    "  \n",
    "# using accuracy_score\n",
    "score = accuracy_score(y_test, y_pred)\n",
    "print(\"Soft Voting Score %\",score)"
   ]
  },
  {
   "cell_type": "markdown",
   "metadata": {},
   "source": [
    "#### ploting"
   ]
  },
  {
   "cell_type": "code",
   "execution_count": 38,
   "metadata": {},
   "outputs": [],
   "source": [
    "import pandas as pd\n",
    "import seaborn as sns\n",
    "import matplotlib.pyplot as plt\n",
    "import numpy as np\n",
    "import math\n",
    "\n",
    "import warnings\n",
    "\n",
    "warnings.filterwarnings('ignore')"
   ]
  },
  {
   "cell_type": "code",
   "execution_count": 41,
   "metadata": {},
   "outputs": [
    {
     "data": {
      "image/png": "[encoded data removed]",
      "text/plain": [
       "<Figure size 720x360 with 1 Axes>"
      ]
     },
     "metadata": {
      "needs_background": "light"
     },
     "output_type": "display_data"
    }
   ],
   "source": [
    "sns.color_palette()\n",
    "fig = plt.figure(figsize=(10, 5))\n",
    "ax = fig.add_axes([0,0,1,1])\n",
    "data_sets = ['all_metadata_hard', 'tweet_data_hard', 'user_data_hard','all_metadata_soft', 'tweet_data_soft', 'user_data_soft']\n",
    "percentage = [73.3, 63.8, 71.3, 73.9, 63.8, 72.4]\n",
    "ax.bar(data_sets,percentage)\n",
    "ax.set_title('accuracy_score ensemble met feature selection')\n",
    "plt.show()"
   ]
  }
 ],
 "metadata": {
  "interpreter": {
   "hash": "79301205a4f603ace7142d303537d2aa6502a34bcb2ffc4e98f98ecde2683c52"
  },
  "kernelspec": {
   "display_name": "Python 3.10.2 64-bit",
   "language": "python",
   "name": "python3"
  },
  "language_info": {
   "codemirror_mode": {
    "name": "ipython",
    "version": 3
   },
   "file_extension": ".py",
   "mimetype": "text/x-python",
   "name": "python",
   "nbconvert_exporter": "python",
   "pygments_lexer": "ipython3",
   "version": "3.10.2"
  },
  "orig_nbformat": 4
 },
 "nbformat": 4,
 "nbformat_minor": 2
}
