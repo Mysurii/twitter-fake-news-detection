{
 "cells": [
  {
   "cell_type": "markdown",
   "metadata": {},
   "source": [
    "# BERT-model\n",
    "\n",
    "### Imports"
   ]
  },
  {
   "cell_type": "code",
   "execution_count": 1,
   "metadata": {},
   "outputs": [
    {
     "name": "stderr",
     "output_type": "stream",
     "text": [
      "/Users/aliozcan/miniforge3/lib/python3.8/site-packages/tqdm/auto.py:22: TqdmWarning: IProgress not found. Please update jupyter and ipywidgets. See https://ipywidgets.readthedocs.io/en/stable/user_install.html\n",
      "  from .autonotebook import tqdm as notebook_tqdm\n"
     ]
    },
    {
     "name": "stdout",
     "output_type": "stream",
     "text": [
      "Metal device set to: Apple M1 Pro\n",
      "\n",
      "systemMemory: 16.00 GB\n",
      "maxCacheSize: 5.33 GB\n",
      "\n"
     ]
    },
    {
     "name": "stderr",
     "output_type": "stream",
     "text": [
      "2022-06-01 18:21:35.299018: I tensorflow/core/common_runtime/pluggable_device/pluggable_device_factory.cc:305] Could not identify NUMA node of platform GPU ID 0, defaulting to 0. Your kernel may not have been built with NUMA support.\n",
      "2022-06-01 18:21:35.299154: I tensorflow/core/common_runtime/pluggable_device/pluggable_device_factory.cc:271] Created TensorFlow device (/job:localhost/replica:0/task:0/device:GPU:0 with 0 MB memory) -> physical PluggableDevice (device: 0, name: METAL, pci bus id: <undefined>)\n",
      "Some layers from the model checkpoint at digitalepidemiologylab/covid-twitter-bert-v2 were not used when initializing TFBertModel: ['nsp___cls', 'mlm___cls']\n",
      "- This IS expected if you are initializing TFBertModel from the checkpoint of a model trained on another task or with another architecture (e.g. initializing a BertForSequenceClassification model from a BertForPreTraining model).\n",
      "- This IS NOT expected if you are initializing TFBertModel from the checkpoint of a model that you expect to be exactly identical (initializing a BertForSequenceClassification model from a BertForSequenceClassification model).\n",
      "All the layers of TFBertModel were initialized from the model checkpoint at digitalepidemiologylab/covid-twitter-bert-v2.\n",
      "If your task is similar to the task the model of the checkpoint was trained on, you can already use TFBertModel for predictions without further training.\n"
     ]
    }
   ],
   "source": [
    "import numpy as np \n",
    "import pandas as pd \n",
    "import matplotlib.pyplot as plt\n",
    "from time import time\n",
    "plt.style.use('fivethirtyeight')\n",
    "from sklearn.model_selection import train_test_split\n",
    "\n",
    "from tensorflow.keras.utils import to_categorical\n",
    "\n",
    "from tools.bert_model import get_model, MAX_LEN\n",
    "from tools.visuals import plot_history, show_bert_accuracy\n",
    "\n",
    "import warnings\n",
    "warnings.filterwarnings('ignore')"
   ]
  },
  {
   "cell_type": "markdown",
   "metadata": {},
   "source": [
    "### Read data"
   ]
  },
  {
   "cell_type": "code",
   "execution_count": 2,
   "metadata": {},
   "outputs": [
    {
     "data": {
      "text/html": [
       "<div>\n",
       "<style scoped>\n",
       "    .dataframe tbody tr th:only-of-type {\n",
       "        vertical-align: middle;\n",
       "    }\n",
       "\n",
       "    .dataframe tbody tr th {\n",
       "        vertical-align: top;\n",
       "    }\n",
       "\n",
       "    .dataframe thead th {\n",
       "        text-align: right;\n",
       "    }\n",
       "</style>\n",
       "<table border=\"1\" class=\"dataframe\">\n",
       "  <thead>\n",
       "    <tr style=\"text-align: right;\">\n",
       "      <th></th>\n",
       "      <th>full_text</th>\n",
       "      <th>real_fake_grade</th>\n",
       "      <th>text_metadata</th>\n",
       "      <th>combined</th>\n",
       "    </tr>\n",
       "  </thead>\n",
       "  <tbody>\n",
       "    <tr>\n",
       "      <th>0</th>\n",
       "      <td>daily update published state reported 734k tes...</td>\n",
       "      <td>1.0</td>\n",
       "      <td>covid tracking project try provide comprehensi...</td>\n",
       "      <td>covid tracking project try provide comprehensi...</td>\n",
       "    </tr>\n",
       "    <tr>\n",
       "      <th>1</th>\n",
       "      <td>president trump asked would catch coronavirus ...</td>\n",
       "      <td>-1.0</td>\n",
       "      <td>spoof spoof news political satire parody gossi...</td>\n",
       "      <td>spoof spoof news political satire parody gossi...</td>\n",
       "    </tr>\n",
       "    <tr>\n",
       "      <th>2</th>\n",
       "      <td>state reported death still seeing solid nation...</td>\n",
       "      <td>1.0</td>\n",
       "      <td>covid tracking project try provide comprehensi...</td>\n",
       "      <td>covid tracking project try provide comprehensi...</td>\n",
       "    </tr>\n",
       "    <tr>\n",
       "      <th>3</th>\n",
       "      <td>low vitamind independent predictor worse progn...</td>\n",
       "      <td>1.0</td>\n",
       "      <td>medscape medscape provides breaking medical ne...</td>\n",
       "      <td>medscape medscape provides breaking medical ne...</td>\n",
       "    </tr>\n",
       "    <tr>\n",
       "      <th>4</th>\n",
       "      <td>common question cumulative outcome number smal...</td>\n",
       "      <td>1.0</td>\n",
       "      <td>covid tracking project try provide comprehensi...</td>\n",
       "      <td>covid tracking project try provide comprehensi...</td>\n",
       "    </tr>\n",
       "  </tbody>\n",
       "</table>\n",
       "</div>"
      ],
      "text/plain": [
       "                                           full_text  real_fake_grade  \\\n",
       "0  daily update published state reported 734k tes...              1.0   \n",
       "1  president trump asked would catch coronavirus ...             -1.0   \n",
       "2  state reported death still seeing solid nation...              1.0   \n",
       "3  low vitamind independent predictor worse progn...              1.0   \n",
       "4  common question cumulative outcome number smal...              1.0   \n",
       "\n",
       "                                       text_metadata  \\\n",
       "0  covid tracking project try provide comprehensi...   \n",
       "1  spoof spoof news political satire parody gossi...   \n",
       "2  covid tracking project try provide comprehensi...   \n",
       "3  medscape medscape provides breaking medical ne...   \n",
       "4  covid tracking project try provide comprehensi...   \n",
       "\n",
       "                                            combined  \n",
       "0  covid tracking project try provide comprehensi...  \n",
       "1  spoof spoof news political satire parody gossi...  \n",
       "2  covid tracking project try provide comprehensi...  \n",
       "3  medscape medscape provides breaking medical ne...  \n",
       "4  covid tracking project try provide comprehensi...  "
      ]
     },
     "execution_count": 2,
     "metadata": {},
     "output_type": "execute_result"
    }
   ],
   "source": [
    "folder_path = '../../data/cleaned_data/cleaned_text_data_with_stopwords_2022.csv'\n",
    "\n",
    "data = pd.read_csv(folder_path)\n",
    "\n",
    "data.head()"
   ]
  },
  {
   "cell_type": "code",
   "execution_count": 3,
   "metadata": {},
   "outputs": [
    {
     "data": {
      "text/plain": [
       "(7903, 4)"
      ]
     },
     "execution_count": 3,
     "metadata": {},
     "output_type": "execute_result"
    }
   ],
   "source": [
    "data.shape"
   ]
  },
  {
   "cell_type": "code",
   "execution_count": 4,
   "metadata": {},
   "outputs": [
    {
     "data": {
      "text/plain": [
       "(7901, 4)"
      ]
     },
     "execution_count": 4,
     "metadata": {},
     "output_type": "execute_result"
    }
   ],
   "source": [
    "data.dropna(inplace=True)\n",
    "data.shape"
   ]
  },
  {
   "cell_type": "markdown",
   "metadata": {},
   "source": [
    "### Pre-processing"
   ]
  },
  {
   "cell_type": "markdown",
   "metadata": {},
   "source": [
    "Verander de -1 (fake) naar een positief getal. Dit is nodig voor to_categorical"
   ]
  },
  {
   "cell_type": "code",
   "execution_count": 5,
   "metadata": {},
   "outputs": [],
   "source": [
    "data['real_fake_grade']  = data['real_fake_grade'].map({0:0, 1:1, -1:2})"
   ]
  },
  {
   "cell_type": "markdown",
   "metadata": {},
   "source": [
    "---"
   ]
  },
  {
   "cell_type": "markdown",
   "metadata": {},
   "source": [
    "## Models"
   ]
  },
  {
   "cell_type": "code",
   "execution_count": 6,
   "metadata": {},
   "outputs": [],
   "source": [
    "from transformers import AutoTokenizer\n",
    "\n",
    "tokenizer = AutoTokenizer.from_pretrained('digitalepidemiologylab/covid-twitter-bert-v2')"
   ]
  },
  {
   "cell_type": "code",
   "execution_count": 7,
   "metadata": {},
   "outputs": [],
   "source": [
    "y = data['real_fake_grade']\n",
    "\n",
    "def get_data(X, maxlen=MAX_LEN):\n",
    "\n",
    "    X_train, X_test, y_train, y_test = train_test_split(X,y, test_size=0.25, random_state=42, stratify=y)\n",
    "    X_train, X_val, y_train, y_val = train_test_split(X_train,y_train, test_size=0.1, random_state=42)\n",
    "\n",
    "    y_train_encoded = to_categorical(y_train)\n",
    "    y_val_encoded = to_categorical(y_val)\n",
    "\n",
    "    # Tokenize the input (takes some time) \n",
    "    x_train = tokenizer(\n",
    "        text=X_train.tolist(),\n",
    "        add_special_tokens=True,\n",
    "        max_length=maxlen,\n",
    "        truncation=True,\n",
    "        padding=True, \n",
    "        return_tensors='tf',\n",
    "        return_token_type_ids = False,\n",
    "        return_attention_mask = True,\n",
    "        verbose = True)\n",
    "    x_val = tokenizer(\n",
    "        text=X_val.tolist(),\n",
    "        add_special_tokens=True,\n",
    "        max_length=maxlen,\n",
    "        truncation=True,\n",
    "        padding=True, \n",
    "        return_tensors='tf',\n",
    "        return_token_type_ids = False,\n",
    "        return_attention_mask = True,\n",
    "        verbose = True)\n",
    "    x_test = tokenizer( # for prediction\n",
    "        text=X_test.tolist(),\n",
    "        add_special_tokens=True,\n",
    "        max_length=maxlen,\n",
    "        truncation=True,\n",
    "        padding=True, \n",
    "        return_tensors='tf',\n",
    "        return_token_type_ids = False,\n",
    "        return_attention_mask = True,\n",
    "        verbose = True)\n",
    "    \n",
    "\n",
    "    return x_train, y_train_encoded, x_val, y_val_encoded, x_test, y_test"
   ]
  },
  {
   "cell_type": "code",
   "execution_count": 10,
   "metadata": {},
   "outputs": [],
   "source": [
    "X_train_tokenized, y_train_encoded, X_val_tokenized, y_val_encoded, X_test_tokenized, y_test = get_data(data['combined'])\n",
    "combined_model = get_model()"
   ]
  },
  {
   "cell_type": "code",
   "execution_count": 11,
   "metadata": {},
   "outputs": [
    {
     "name": "stdout",
     "output_type": "stream",
     "text": [
      "Model: \"model\"\n",
      "__________________________________________________________________________________________________\n",
      " Layer (type)                   Output Shape         Param #     Connected to                     \n",
      "==================================================================================================\n",
      " input_ids (InputLayer)         [(None, 128)]        0           []                               \n",
      "                                                                                                  \n",
      " attention_mask (InputLayer)    [(None, 128)]        0           []                               \n",
      "                                                                                                  \n",
      " tf_bert_model (TFBertModel)    TFBaseModelOutputWi  335141888   ['input_ids[0][0]',              \n",
      "                                thPooling(last_hidd               'attention_mask[0][0]']         \n",
      "                                en_state=(None, 128                                               \n",
      "                                , 1024),                                                          \n",
      "                                 pooler_output=(Non                                               \n",
      "                                e, 1024),                                                         \n",
      "                                 hidden_states=None                                               \n",
      "                                , attentions=None)                                                \n",
      "                                                                                                  \n",
      " dense (Dense)                  (None, 128)          131200      ['tf_bert_model[0][1]']          \n",
      "                                                                                                  \n",
      " dropout_74 (Dropout)           (None, 128)          0           ['dense[0][0]']                  \n",
      "                                                                                                  \n",
      " dense_1 (Dense)                (None, 32)           4128        ['dropout_74[0][0]']             \n",
      "                                                                                                  \n",
      " dense_2 (Dense)                (None, 3)            99          ['dense_1[0][0]']                \n",
      "                                                                                                  \n",
      "==================================================================================================\n",
      "Total params: 335,277,315\n",
      "Trainable params: 335,277,315\n",
      "Non-trainable params: 0\n",
      "__________________________________________________________________________________________________\n"
     ]
    }
   ],
   "source": [
    "combined_model.summary()"
   ]
  },
  {
   "cell_type": "code",
   "execution_count": 12,
   "metadata": {},
   "outputs": [
    {
     "name": "stdout",
     "output_type": "stream",
     "text": [
      "Epoch 1/4\n"
     ]
    },
    {
     "name": "stderr",
     "output_type": "stream",
     "text": [
      "2022-05-31 21:14:23.295887: W tensorflow/core/platform/profile_utils/cpu_utils.cc:128] Failed to get CPU frequency: 0 Hz\n",
      "2022-05-31 21:14:34.184275: I tensorflow/core/grappler/optimizers/custom_graph_optimizer_registry.cc:113] Plugin optimizer for device_type GPU is enabled.\n"
     ]
    },
    {
     "name": "stdout",
     "output_type": "stream",
     "text": [
      "167/167 [==============================] - ETA: 0s - loss: 0.7608 - accuracy: 0.6675 "
     ]
    },
    {
     "name": "stderr",
     "output_type": "stream",
     "text": [
      "2022-05-31 21:58:28.577345: I tensorflow/core/grappler/optimizers/custom_graph_optimizer_registry.cc:113] Plugin optimizer for device_type GPU is enabled.\n"
     ]
    },
    {
     "name": "stdout",
     "output_type": "stream",
     "text": [
      "167/167 [==============================] - 2677s 16s/step - loss: 0.7608 - accuracy: 0.6675 - val_loss: 0.5993 - val_accuracy: 0.7420\n",
      "Epoch 2/4\n",
      "167/167 [==============================] - 2931s 18s/step - loss: 0.4830 - accuracy: 0.8021 - val_loss: 0.4809 - val_accuracy: 0.8027\n",
      "Epoch 3/4\n",
      "167/167 [==============================] - 2987s 18s/step - loss: 0.3736 - accuracy: 0.8573 - val_loss: 0.4648 - val_accuracy: 0.8027\n",
      "Epoch 4/4\n",
      "167/167 [==============================] - 3001s 18s/step - loss: 0.3024 - accuracy: 0.8862 - val_loss: 0.5065 - val_accuracy: 0.7926\n"
     ]
    }
   ],
   "source": [
    "start = time()\n",
    "combined_history = combined_model.fit(\n",
    "    x ={'input_ids':X_train_tokenized['input_ids'],'attention_mask':X_train_tokenized['attention_mask']} ,\n",
    "    y = y_train_encoded,\n",
    "    validation_data = (\n",
    "    {'input_ids':X_val_tokenized['input_ids'],'attention_mask':X_val_tokenized['attention_mask']}, y_val_encoded\n",
    "    ),\n",
    "  epochs=4,\n",
    "    batch_size=32\n",
    ")\n",
    "end = time()\n",
    "\n",
    "combined_train_time = end - start\n",
    "combined_train_time"
   ]
  },
  {
   "cell_type": "code",
   "execution_count": 13,
   "metadata": {},
   "outputs": [
    {
     "data": {
      "image/png": "[encoded data removed]",
      "text/plain": [
       "<Figure size 432x288 with 1 Axes>"
      ]
     },
     "metadata": {
      "needs_background": "light"
     },
     "output_type": "display_data"
    },
    {
     "data": {
      "image/png": "[encoded data removed]",
      "text/plain": [
       "<Figure size 432x288 with 1 Axes>"
      ]
     },
     "metadata": {
      "needs_background": "light"
     },
     "output_type": "display_data"
    }
   ],
   "source": [
    "plot_history(combined_history)"
   ]
  },
  {
   "cell_type": "code",
   "execution_count": 19,
   "metadata": {},
   "outputs": [
    {
     "name": "stdout",
     "output_type": "stream",
     "text": [
      "Accuracy score: 0.8355263157894737\n",
      "test time: 78.09901213645935\n"
     ]
    }
   ],
   "source": [
    "start = time()\n",
    "show_bert_accuracy(combined_model, X_test_tokenized, y_test)\n",
    "end = time()\n",
    "\n",
    "combined_test_time = end - start\n",
    "print(f\"test time: {combined_test_time}\")"
   ]
  },
  {
   "cell_type": "markdown",
   "metadata": {},
   "source": [
    "### Tweet"
   ]
  },
  {
   "cell_type": "code",
   "execution_count": 8,
   "metadata": {},
   "outputs": [],
   "source": [
    "X_train_tokenized, y_train_encoded, X_val_tokenized, y_val_encoded, X_test_tokenized, y_test = get_data(data['full_text'], maxlen=80)\n",
    "tweet_2022_model = get_model(maxlen=80)"
   ]
  },
  {
   "cell_type": "code",
   "execution_count": 9,
   "metadata": {},
   "outputs": [
    {
     "name": "stdout",
     "output_type": "stream",
     "text": [
      "Epoch 1/4\n"
     ]
    },
    {
     "name": "stderr",
     "output_type": "stream",
     "text": [
      "2022-06-01 18:22:11.313648: W tensorflow/core/platform/profile_utils/cpu_utils.cc:128] Failed to get CPU frequency: 0 Hz\n",
      "2022-06-01 18:22:22.915952: I tensorflow/core/grappler/optimizers/custom_graph_optimizer_registry.cc:113] Plugin optimizer for device_type GPU is enabled.\n"
     ]
    },
    {
     "name": "stdout",
     "output_type": "stream",
     "text": [
      "167/167 [==============================] - ETA: 0s - loss: 0.8130 - accuracy: 0.6262"
     ]
    },
    {
     "name": "stderr",
     "output_type": "stream",
     "text": [
      "2022-06-01 18:46:35.126608: I tensorflow/core/grappler/optimizers/custom_graph_optimizer_registry.cc:113] Plugin optimizer for device_type GPU is enabled.\n"
     ]
    },
    {
     "name": "stdout",
     "output_type": "stream",
     "text": [
      "167/167 [==============================] - 1493s 9s/step - loss: 0.8130 - accuracy: 0.6262 - val_loss: 0.6725 - val_accuracy: 0.7268\n",
      "Epoch 2/4\n",
      "167/167 [==============================] - 1260s 8s/step - loss: 0.5872 - accuracy: 0.7671 - val_loss: 0.5688 - val_accuracy: 0.7858\n",
      "Epoch 3/4\n",
      "167/167 [==============================] - 1234s 7s/step - loss: 0.4670 - accuracy: 0.8211 - val_loss: 0.5344 - val_accuracy: 0.7909\n",
      "Epoch 4/4\n",
      "167/167 [==============================] - 1242s 7s/step - loss: 0.3843 - accuracy: 0.8620 - val_loss: 0.5424 - val_accuracy: 0.8027\n",
      "train time: 5229.529034852982\n"
     ]
    }
   ],
   "source": [
    "start = time()\n",
    "tweet_history = tweet_2022_model.fit(\n",
    "    x ={'input_ids':X_train_tokenized['input_ids'],'attention_mask':X_train_tokenized['attention_mask']} ,\n",
    "    y = y_train_encoded,\n",
    "    validation_data = (\n",
    "    {'input_ids':X_val_tokenized['input_ids'],'attention_mask':X_val_tokenized['attention_mask']}, y_val_encoded\n",
    "    ),\n",
    "  epochs=4,\n",
    "    batch_size=32\n",
    ")\n",
    "end = time()\n",
    "\n",
    "tweet_train_time = end - start\n",
    "print(f\"train time: {tweet_train_time}\")"
   ]
  },
  {
   "cell_type": "code",
   "execution_count": 10,
   "metadata": {},
   "outputs": [
    {
     "data": {
      "image/png": "[encoded data removed]",
      "text/plain": [
       "<Figure size 432x288 with 1 Axes>"
      ]
     },
     "metadata": {
      "needs_background": "light"
     },
     "output_type": "display_data"
    },
    {
     "data": {
      "image/png": "[encoded data removed]",
      "text/plain": [
       "<Figure size 432x288 with 1 Axes>"
      ]
     },
     "metadata": {
      "needs_background": "light"
     },
     "output_type": "display_data"
    }
   ],
   "source": [
    "plot_history(tweet_history)"
   ]
  },
  {
   "cell_type": "code",
   "execution_count": 11,
   "metadata": {},
   "outputs": [
    {
     "name": "stderr",
     "output_type": "stream",
     "text": [
      "2022-06-01 19:50:41.151754: I tensorflow/core/grappler/optimizers/custom_graph_optimizer_registry.cc:113] Plugin optimizer for device_type GPU is enabled.\n"
     ]
    },
    {
     "name": "stdout",
     "output_type": "stream",
     "text": [
      "Accuracy score: 0.8137651821862348\n"
     ]
    }
   ],
   "source": [
    "start = time()\n",
    "show_bert_accuracy(tweet_2022_model, X_test_tokenized, y_test)\n",
    "end = time()\n",
    "tweet_test_time = end - start"
   ]
  },
  {
   "cell_type": "code",
   "execution_count": 15,
   "metadata": {},
   "outputs": [
    {
     "name": "stdout",
     "output_type": "stream",
     "text": [
      "train time: 5229.529034852982\n",
      "test time: 58.70046782493591\n"
     ]
    }
   ],
   "source": [
    "print(f\"train time: {tweet_train_time}\")\n",
    "print(f\"test time: {tweet_test_time}\")"
   ]
  },
  {
   "cell_type": "markdown",
   "metadata": {},
   "source": [
    "### Text Metadata"
   ]
  },
  {
   "cell_type": "code",
   "execution_count": 8,
   "metadata": {},
   "outputs": [],
   "source": [
    "X_train_tokenized, y_train_encoded, X_val_tokenized, y_val_encoded, X_test_tokenized, y_test = get_data(data['text_metadata'])\n",
    "text_metadata_model = get_model()"
   ]
  },
  {
   "cell_type": "code",
   "execution_count": 10,
   "metadata": {},
   "outputs": [
    {
     "name": "stdout",
     "output_type": "stream",
     "text": [
      "Epoch 1/4\n"
     ]
    },
    {
     "name": "stderr",
     "output_type": "stream",
     "text": [
      "2022-05-31 12:15:10.887938: W tensorflow/core/platform/profile_utils/cpu_utils.cc:128] Failed to get CPU frequency: 0 Hz\n",
      "2022-05-31 12:15:21.721670: I tensorflow/core/grappler/optimizers/custom_graph_optimizer_registry.cc:113] Plugin optimizer for device_type GPU is enabled.\n"
     ]
    },
    {
     "name": "stdout",
     "output_type": "stream",
     "text": [
      "167/167 [==============================] - ETA: 0s - loss: 0.7677 - accuracy: 0.6487 "
     ]
    },
    {
     "name": "stderr",
     "output_type": "stream",
     "text": [
      "2022-05-31 13:02:52.276346: I tensorflow/core/grappler/optimizers/custom_graph_optimizer_registry.cc:113] Plugin optimizer for device_type GPU is enabled.\n"
     ]
    },
    {
     "name": "stdout",
     "output_type": "stream",
     "text": [
      "167/167 [==============================] - 2897s 17s/step - loss: 0.7677 - accuracy: 0.6487 - val_loss: 0.6309 - val_accuracy: 0.7099\n",
      "Epoch 2/4\n",
      "167/167 [==============================] - 2693s 16s/step - loss: 0.6276 - accuracy: 0.7099 - val_loss: 0.5886 - val_accuracy: 0.7403\n",
      "Epoch 3/4\n",
      "167/167 [==============================] - 2636s 16s/step - loss: 0.5752 - accuracy: 0.7446 - val_loss: 0.5825 - val_accuracy: 0.7369\n",
      "Epoch 4/4\n",
      "167/167 [==============================] - 2882s 17s/step - loss: 0.5402 - accuracy: 0.7598 - val_loss: 0.5827 - val_accuracy: 0.7437\n"
     ]
    }
   ],
   "source": [
    "start = time()\n",
    "\n",
    "text_metadata_history = text_metadata_model.fit(\n",
    "    x ={'input_ids':X_train_tokenized['input_ids'],'attention_mask':X_train_tokenized['attention_mask']} ,\n",
    "    y = y_train_encoded,\n",
    "    validation_data = (\n",
    "    {'input_ids':X_val_tokenized['input_ids'],'attention_mask':X_val_tokenized['attention_mask']}, y_val_encoded\n",
    "    ),\n",
    "  epochs=4,\n",
    "    batch_size=32\n",
    ")\n",
    "\n",
    "end = start()\n",
    "\n",
    "text_metadata_triain_time = end - start"
   ]
  },
  {
   "cell_type": "code",
   "execution_count": 11,
   "metadata": {},
   "outputs": [
    {
     "data": {
      "image/png": "[encoded data removed]",
      "text/plain": [
       "<Figure size 432x288 with 1 Axes>"
      ]
     },
     "metadata": {
      "needs_background": "light"
     },
     "output_type": "display_data"
    },
    {
     "data": {
      "image/png": "[encoded data removed]",
      "text/plain": [
       "<Figure size 432x288 with 1 Axes>"
      ]
     },
     "metadata": {
      "needs_background": "light"
     },
     "output_type": "display_data"
    }
   ],
   "source": [
    "plot_history(text_metadata_history)"
   ]
  },
  {
   "cell_type": "code",
   "execution_count": 15,
   "metadata": {},
   "outputs": [
    {
     "name": "stdout",
     "output_type": "stream",
     "text": [
      "Accuracy score: 0.7246963562753036\n"
     ]
    },
    {
     "data": {
      "text/plain": [
       "79.05284404754639"
      ]
     },
     "execution_count": 15,
     "metadata": {},
     "output_type": "execute_result"
    }
   ],
   "source": [
    "from time import time\n",
    "\n",
    "start = time()\n",
    "show_bert_accuracy(combined_model, X_test_tokenized, y_test)\n",
    "end = time()\n",
    "text_metadata_test_time = end - start\n",
    "text_metadata_test_time"
   ]
  },
  {
   "cell_type": "markdown",
   "metadata": {},
   "source": [
    "### Save models"
   ]
  },
  {
   "cell_type": "markdown",
   "metadata": {},
   "source": [
    "combined"
   ]
  },
  {
   "cell_type": "code",
   "execution_count": 16,
   "metadata": {},
   "outputs": [],
   "source": [
    "combined_model.save_weights(\"./results/bert/bert-combined-weights.h5\")"
   ]
  },
  {
   "cell_type": "markdown",
   "metadata": {},
   "source": [
    "tweet"
   ]
  },
  {
   "cell_type": "code",
   "execution_count": 13,
   "metadata": {},
   "outputs": [],
   "source": [
    "tweet_2022_model.save_weights(\"./results/bert/bert-tweet2022-weights.h5\")"
   ]
  },
  {
   "cell_type": "markdown",
   "metadata": {},
   "source": [
    "text metadata"
   ]
  },
  {
   "cell_type": "code",
   "execution_count": 41,
   "metadata": {},
   "outputs": [],
   "source": [
    "text_metadata_model.save_weights(\"./results/bert/bert-text-metadata-weights.h5\")"
   ]
  },
  {
   "cell_type": "markdown",
   "metadata": {},
   "source": [
    "### Loading a model example"
   ]
  },
  {
   "cell_type": "code",
   "execution_count": 13,
   "metadata": {},
   "outputs": [],
   "source": [
    "test = get_model()\n",
    "\n",
    "test.load_weights(\"./results/bert/bert-text-metadata-weights.h5\")\n"
   ]
  },
  {
   "cell_type": "code",
   "execution_count": 15,
   "metadata": {},
   "outputs": [
    {
     "name": "stderr",
     "output_type": "stream",
     "text": [
      "2022-05-31 16:13:30.981383: I tensorflow/core/grappler/optimizers/custom_graph_optimizer_registry.cc:113] Plugin optimizer for device_type GPU is enabled.\n"
     ]
    },
    {
     "name": "stdout",
     "output_type": "stream",
     "text": [
      "Accuracy score: 0.7246963562753036\n"
     ]
    }
   ],
   "source": [
    "show_bert_accuracy(test, X_test_tokenized, y_test)"
   ]
  },
  {
   "cell_type": "markdown",
   "metadata": {},
   "source": [
    "### Resultaten\n",
    "\n",
    "\n",
    "|      \t| accuracy \t| training time (s)     \t| test time (s)|\n",
    "|------\t|-------------\t|-------\t| ------|\n",
    "| Tweet 2022 \t| 0.814     \t|  5229  | 58|\n",
    "| Tweet 2021    \t| -       |-\t| - |\n",
    "| Text metadata    \t| 0.72       |11100 \t| 79|\n",
    "| Combined    \t| 0.836        \t| 11580| 78|"
   ]
  },
  {
   "cell_type": "markdown",
   "metadata": {},
   "source": [
    "### Bronnen \n",
    "\n",
    "- https://arxiv.org/pdf/1810.04805.pdf (authors of BERT)"
   ]
  }
 ],
 "metadata": {
  "interpreter": {
   "hash": "055079195073658a51114928e756d4a43022fc1e84eb762010fcf721cf3a9eca"
  },
  "kernelspec": {
   "display_name": "Python 3.8.13 ('base')",
   "language": "python",
   "name": "python3"
  },
  "language_info": {
   "codemirror_mode": {
    "name": "ipython",
    "version": 3
   },
   "file_extension": ".py",
   "mimetype": "text/x-python",
   "name": "python",
   "nbconvert_exporter": "python",
   "pygments_lexer": "ipython3",
   "version": "3.8.13"
  },
  "orig_nbformat": 4
 },
 "nbformat": 4,
 "nbformat_minor": 2
}
