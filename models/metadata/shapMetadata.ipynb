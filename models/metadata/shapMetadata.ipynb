{
 "cells": [
  {
   "cell_type": "markdown",
   "metadata": {},
   "source": [
    "### shap \n",
    "shap word hier gebruikt om uit te legen wat dit model belangrijk vind\n",
    "hiervoor gebruiken we de dataset die is aangepast met feature importens"
   ]
  },
  {
   "cell_type": "code",
   "execution_count": 1,
   "metadata": {},
   "outputs": [],
   "source": [
    "import pandas as pd\n",
    "import warnings\n",
    "import matplotlib.pyplot as plt\n",
    "warnings.filterwarnings('ignore')\n",
    "import numpy as np\n",
    "from sklearn.svm import SVC\n",
    "from sklearn.model_selection import train_test_split, RandomizedSearchCV, GridSearchCV\n",
    "from sklearn.preprocessing import StandardScaler\n",
    "from sklearn.metrics import accuracy_score, make_scorer, precision_score, recall_score, classification_report\n",
    "from sklearn.inspection import permutation_importance"
   ]
  },
  {
   "cell_type": "markdown",
   "metadata": {},
   "source": [
    "#### bereid de data voor"
   ]
  },
  {
   "cell_type": "code",
   "execution_count": 2,
   "metadata": {},
   "outputs": [],
   "source": [
    "all_data_selected = pd.read_csv('../../data/selected_data/all_data_selected.csv')\n",
    "all_data_selected = all_data_selected.drop([ 'Unnamed: 0', 'full_text', 'user_description', 'username'], axis = 1)\n",
    "# select x and y from data\n",
    "y = all_data_selected.pop('real_fake_grade')\n",
    "x = all_data_selected\n",
    "\n",
    "# scale variables\n",
    "x = StandardScaler().fit_transform(x)\n",
    "x_train, x_test, y_train, y_test = train_test_split(x, y, test_size=0.20, random_state=42, stratify=y)"
   ]
  },
  {
   "cell_type": "markdown",
   "metadata": {},
   "source": [
    "#### maak de SVM"
   ]
  },
  {
   "cell_type": "code",
   "execution_count": 3,
   "metadata": {},
   "outputs": [
    {
     "name": "stdout",
     "output_type": "stream",
     "text": [
      "Best parameters:\n",
      " {'kernel': 'rbf', 'C': 1.5}\n",
      "\n"
     ]
    }
   ],
   "source": [
    "svm_rs = RandomizedSearchCV(SVC(), \n",
    "                        param_distributions = {'kernel': ['linear', 'poly', 'rbf', 'sigmoid'],\n",
    "                                            'C': [0.5, 1, 1.5, 2]},\n",
    "                        cv = 7,\n",
    "                        scoring = make_scorer(accuracy_score)) \n",
    "\n",
    "# fit the model\n",
    "svm_rs.fit(x_train, y_train)\n",
    "print('Best parameters:\\n', svm_rs.best_params_)\n",
    "print()\n",
    "\n",
    "# make prediction with best parameters\n",
    "y_pred = svm_rs.best_estimator_.predict(x_test)\n"
   ]
  },
  {
   "cell_type": "markdown",
   "metadata": {},
   "source": [
    "#### shap maken"
   ]
  },
  {
   "cell_type": "code",
   "execution_count": null,
   "metadata": {},
   "outputs": [],
   "source": [
    "from tqdm import tqdm\n",
    "import shap\n",
    "shap.initjs()"
   ]
  },
  {
   "cell_type": "code",
   "execution_count": null,
   "metadata": {},
   "outputs": [],
   "source": [
    "explainer = shap.KernelExplainer(svm_rs.best_estimator_.predict,x_train)"
   ]
  },
  {
   "cell_type": "code",
   "execution_count": null,
   "metadata": {},
   "outputs": [],
   "source": [
    "shap_values = explainer.shap_values(shap.sample(x_test, 25),nsamples=100)"
   ]
  },
  {
   "cell_type": "code",
   "execution_count": null,
   "metadata": {},
   "outputs": [],
   "source": [
    "features = ['retweet_count',\n",
    "            'user_followers_count',\n",
    "            'user_friends_count',\n",
    "            'user_favourites_count', \n",
    "            'user_statuses_count', \n",
    "            'user_media_count', \n",
    "            'hashtags_count',\n",
    "            'text_length',\n",
    "            'tweet_contains_url',\n",
    "            'user_service_level_analytics',\n",
    "            'user_service_level_dso',\n",
    "            'user_service_level_media_studio',\n",
    "            'user_service_level_reseller',\n",
    "            'user_service_level_smb',\n",
    "            'tweeted_in_weekend', \n",
    "            'user_created_in_weekend',\n",
    "            'user_creation_tweet_diff', \n",
    "            'sent_via_twitter', \n",
    "            'twitter_android_user',    \n",
    "            'possibly_sensitive_media',       \n",
    "            'user_is_verified',\n",
    "            'user_has_translation_enabled',          \n",
    "            'user_has_default_profile',\n",
    "            'user_has_default_profile_image',\n",
    "            'user_has_custom_timeline',\n",
    "            'has_pinned_tweet',\n",
    "            'has_user_url',\n",
    "            'tweet_contains_media',\n",
    "            'tweet_is_reply',\n",
    "            'user_is_advertiser',\n",
    "            'part_of_thread',\n",
    "            'user_is_advertiser',\n",
    "            'user_decscription_has_urls',\n",
    "            'tweeted_in_daypart_day',\n",
    "            'tweeted_in_daypart_evening',\n",
    "            'tweeted_in_daypart_morning',             \n",
    "            'tweeted_in_daypart_night',   \n",
    "            'user_created_in_daypart_day',      \n",
    "            'user_created_in_daypart_evening',         \n",
    "            ]\n"
   ]
  },
  {
   "cell_type": "markdown",
   "metadata": {},
   "source": [
    "save de shap valeus als een np array in een csv"
   ]
  },
  {
   "cell_type": "code",
   "execution_count": null,
   "metadata": {},
   "outputs": [],
   "source": [
    "from numpy import savetxt\n",
    "savetxt('shap.csv', shap_values, delimiter=',')"
   ]
  },
  {
   "cell_type": "markdown",
   "metadata": {},
   "source": [
    "shap inladen"
   ]
  },
  {
   "cell_type": "code",
   "execution_count": null,
   "metadata": {},
   "outputs": [],
   "source": [
    "from numpy import loadtxt\n",
    "# load array\n",
    "shap_values_loaded = loadtxt('shap.csv', delimiter=',')"
   ]
  },
  {
   "cell_type": "code",
   "execution_count": null,
   "metadata": {},
   "outputs": [],
   "source": [
    "shap.summary_plot(shap_values_loaded,x_test[:25],feature_names=features, show=False)\n",
    "plt.gcf().axes[-1].set_aspect(100)\n",
    "plt.gcf().axes[-1].set_box_aspect(10)"
   ]
  },
  {
   "cell_type": "code",
   "execution_count": null,
   "metadata": {},
   "outputs": [],
   "source": [
    "shap.force_plot(explainer.expected_value, shap_values_loaded[0],\n",
    "    feature_names=features)"
   ]
  }
 ],
 "metadata": {
  "interpreter": {
   "hash": "79301205a4f603ace7142d303537d2aa6502a34bcb2ffc4e98f98ecde2683c52"
  },
  "kernelspec": {
   "display_name": "Python 3.10.2 64-bit",
   "language": "python",
   "name": "python3"
  },
  "language_info": {
   "codemirror_mode": {
    "name": "ipython",
    "version": 3
   },
   "file_extension": ".py",
   "mimetype": "text/x-python",
   "name": "python",
   "nbconvert_exporter": "python",
   "pygments_lexer": "ipython3",
   "version": "3.10.2"
  },
  "orig_nbformat": 4
 },
 "nbformat": 4,
 "nbformat_minor": 2
}
