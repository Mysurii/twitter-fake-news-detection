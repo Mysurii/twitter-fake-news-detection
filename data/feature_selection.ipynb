{
 "cells": [
  {
   "cell_type": "markdown",
   "metadata": {},
   "source": [
    "## Feature Selection \n",
    "\n",
    "**Om het einde van dit notebook te kunnen runnen moet eerst het notebook cleanup.ipynb gerund worden om de csv bestanden te verkrijgen!**\n",
    "In het notebook 'cleaned_dataset_analysis' zijn van veel variabelen plots gemaakt om te bestuderen welke variabelen mogelijk veel invloed hebben op de uitkomsten van het model en welke variabelen geen waarde hebben. In dit notebook wordt daar dieper op ingegaan door middel van t-toetsen op de binaire variabelen. "
   ]
  },
  {
   "cell_type": "code",
   "execution_count": 1,
   "metadata": {},
   "outputs": [],
   "source": [
    "import pandas as pd\n",
    "import numpy as np\n",
    "from functions.csv_tools import to_csv\n",
    "import warnings\n",
    "warnings.filterwarnings('ignore')"
   ]
  },
  {
   "cell_type": "code",
   "execution_count": 2,
   "metadata": {},
   "outputs": [
    {
     "data": {
      "text/plain": [
       "Index(['Unnamed: 0', 'full_text', 'retweet_count', 'favorite_count',\n",
       "       'user_description', 'user_followers_count',\n",
       "       'user_normal_followers_count', 'user_friends_count',\n",
       "       'user_listed_count', 'user_favourites_count', 'user_statuses_count',\n",
       "       'user_media_count', 'user_translator_type', 'hashtags_count',\n",
       "       'username', 'user_profile_location', 'has_user_url', 'text_length',\n",
       "       'sent_via_twitter', 'twitter_android_user', 'twitter_apple_user',\n",
       "       'tweeted_in_weekend', 'user_created_in_weekend',\n",
       "       'possibly_sensitive_media', 'user_is_verified',\n",
       "       'user_has_translation_enabled', 'user_has_default_profile',\n",
       "       'user_has_default_profile_image', 'has_pinned_tweet',\n",
       "       'user_has_custom_timeline', 'user_is_advertiser',\n",
       "       'user_service_level_analytics', 'user_service_level_dso',\n",
       "       'user_service_level_media_studio', 'user_service_level_mms',\n",
       "       'user_service_level_reseller', 'user_service_level_smb',\n",
       "       'user_service_level_subscription', 'tweet_contains_url',\n",
       "       'tweet_contains_media', 'user_decscription_has_urls', 'is_quoted_tweet',\n",
       "       'tweet_is_reply', 'part_of_thread', 'user_description_sentiment',\n",
       "       'tweet_sentiment', 'user_creation_tweet_diff', 'tweeted_in_daypart_day',\n",
       "       'tweeted_in_daypart_evening', 'tweeted_in_daypart_morning',\n",
       "       'tweeted_in_daypart_night', 'user_created_in_daypart_day',\n",
       "       'user_created_in_daypart_evening', 'user_created_in_daypart_morning',\n",
       "       'user_created_in_daypart_night', 'real_fake_grade'],\n",
       "      dtype='object')"
      ]
     },
     "execution_count": 2,
     "metadata": {},
     "output_type": "execute_result"
    }
   ],
   "source": [
    "data = pd.read_csv('./cleaned_data/all_columns.csv')\n",
    "data.columns"
   ]
  },
  {
   "cell_type": "code",
   "execution_count": 3,
   "metadata": {},
   "outputs": [],
   "source": [
    "# verwijder alle numerieke kolommen\n",
    "binary_data = data.drop(['Unnamed: 0', 'full_text', 'retweet_count', 'favorite_count', 'user_description', 'user_followers_count', 'user_normal_followers_count', \n",
    "                        'user_friends_count', 'user_listed_count', 'user_favourites_count', 'user_statuses_count', 'user_media_count', 'hashtags_count', 'username', 'text_length'], axis = 1)"
   ]
  },
  {
   "cell_type": "code",
   "execution_count": 4,
   "metadata": {},
   "outputs": [
    {
     "data": {
      "text/html": [
       "<div>\n",
       "<style scoped>\n",
       "    .dataframe tbody tr th:only-of-type {\n",
       "        vertical-align: middle;\n",
       "    }\n",
       "\n",
       "    .dataframe tbody tr th {\n",
       "        vertical-align: top;\n",
       "    }\n",
       "\n",
       "    .dataframe thead th {\n",
       "        text-align: right;\n",
       "    }\n",
       "</style>\n",
       "<table border=\"1\" class=\"dataframe\">\n",
       "  <thead>\n",
       "    <tr style=\"text-align: right;\">\n",
       "      <th></th>\n",
       "      <th>user_translator_type</th>\n",
       "      <th>user_profile_location</th>\n",
       "      <th>has_user_url</th>\n",
       "      <th>sent_via_twitter</th>\n",
       "      <th>twitter_android_user</th>\n",
       "      <th>twitter_apple_user</th>\n",
       "      <th>tweeted_in_weekend</th>\n",
       "      <th>user_created_in_weekend</th>\n",
       "      <th>possibly_sensitive_media</th>\n",
       "      <th>user_is_verified</th>\n",
       "      <th>...</th>\n",
       "      <th>user_creation_tweet_diff</th>\n",
       "      <th>tweeted_in_daypart_day</th>\n",
       "      <th>tweeted_in_daypart_evening</th>\n",
       "      <th>tweeted_in_daypart_morning</th>\n",
       "      <th>tweeted_in_daypart_night</th>\n",
       "      <th>user_created_in_daypart_day</th>\n",
       "      <th>user_created_in_daypart_evening</th>\n",
       "      <th>user_created_in_daypart_morning</th>\n",
       "      <th>user_created_in_daypart_night</th>\n",
       "      <th>real_fake_grade</th>\n",
       "    </tr>\n",
       "  </thead>\n",
       "  <tbody>\n",
       "    <tr>\n",
       "      <th>0</th>\n",
       "      <td>0</td>\n",
       "      <td>0</td>\n",
       "      <td>1</td>\n",
       "      <td>1</td>\n",
       "      <td>0</td>\n",
       "      <td>0</td>\n",
       "      <td>1</td>\n",
       "      <td>1</td>\n",
       "      <td>0</td>\n",
       "      <td>1</td>\n",
       "      <td>...</td>\n",
       "      <td>16384932</td>\n",
       "      <td>0</td>\n",
       "      <td>1</td>\n",
       "      <td>0</td>\n",
       "      <td>0</td>\n",
       "      <td>0</td>\n",
       "      <td>0</td>\n",
       "      <td>1</td>\n",
       "      <td>0</td>\n",
       "      <td>1.0</td>\n",
       "    </tr>\n",
       "    <tr>\n",
       "      <th>1</th>\n",
       "      <td>0</td>\n",
       "      <td>0</td>\n",
       "      <td>1</td>\n",
       "      <td>0</td>\n",
       "      <td>0</td>\n",
       "      <td>0</td>\n",
       "      <td>0</td>\n",
       "      <td>0</td>\n",
       "      <td>0</td>\n",
       "      <td>0</td>\n",
       "      <td>...</td>\n",
       "      <td>293776787</td>\n",
       "      <td>1</td>\n",
       "      <td>0</td>\n",
       "      <td>0</td>\n",
       "      <td>0</td>\n",
       "      <td>0</td>\n",
       "      <td>0</td>\n",
       "      <td>1</td>\n",
       "      <td>0</td>\n",
       "      <td>-1.0</td>\n",
       "    </tr>\n",
       "    <tr>\n",
       "      <th>2</th>\n",
       "      <td>0</td>\n",
       "      <td>0</td>\n",
       "      <td>1</td>\n",
       "      <td>1</td>\n",
       "      <td>0</td>\n",
       "      <td>0</td>\n",
       "      <td>1</td>\n",
       "      <td>1</td>\n",
       "      <td>0</td>\n",
       "      <td>1</td>\n",
       "      <td>...</td>\n",
       "      <td>9039963</td>\n",
       "      <td>0</td>\n",
       "      <td>1</td>\n",
       "      <td>0</td>\n",
       "      <td>0</td>\n",
       "      <td>0</td>\n",
       "      <td>0</td>\n",
       "      <td>1</td>\n",
       "      <td>0</td>\n",
       "      <td>1.0</td>\n",
       "    </tr>\n",
       "    <tr>\n",
       "      <th>3</th>\n",
       "      <td>0</td>\n",
       "      <td>1</td>\n",
       "      <td>1</td>\n",
       "      <td>0</td>\n",
       "      <td>0</td>\n",
       "      <td>0</td>\n",
       "      <td>1</td>\n",
       "      <td>0</td>\n",
       "      <td>0</td>\n",
       "      <td>1</td>\n",
       "      <td>...</td>\n",
       "      <td>375950159</td>\n",
       "      <td>0</td>\n",
       "      <td>0</td>\n",
       "      <td>0</td>\n",
       "      <td>1</td>\n",
       "      <td>0</td>\n",
       "      <td>1</td>\n",
       "      <td>0</td>\n",
       "      <td>0</td>\n",
       "      <td>1.0</td>\n",
       "    </tr>\n",
       "    <tr>\n",
       "      <th>4</th>\n",
       "      <td>0</td>\n",
       "      <td>0</td>\n",
       "      <td>1</td>\n",
       "      <td>1</td>\n",
       "      <td>0</td>\n",
       "      <td>0</td>\n",
       "      <td>1</td>\n",
       "      <td>1</td>\n",
       "      <td>1</td>\n",
       "      <td>1</td>\n",
       "      <td>...</td>\n",
       "      <td>2470004</td>\n",
       "      <td>0</td>\n",
       "      <td>1</td>\n",
       "      <td>0</td>\n",
       "      <td>0</td>\n",
       "      <td>0</td>\n",
       "      <td>0</td>\n",
       "      <td>1</td>\n",
       "      <td>0</td>\n",
       "      <td>1.0</td>\n",
       "    </tr>\n",
       "  </tbody>\n",
       "</table>\n",
       "<p>5 rows × 41 columns</p>\n",
       "</div>"
      ],
      "text/plain": [
       "   user_translator_type  user_profile_location  has_user_url  \\\n",
       "0                     0                      0             1   \n",
       "1                     0                      0             1   \n",
       "2                     0                      0             1   \n",
       "3                     0                      1             1   \n",
       "4                     0                      0             1   \n",
       "\n",
       "   sent_via_twitter  twitter_android_user  twitter_apple_user  \\\n",
       "0                 1                     0                   0   \n",
       "1                 0                     0                   0   \n",
       "2                 1                     0                   0   \n",
       "3                 0                     0                   0   \n",
       "4                 1                     0                   0   \n",
       "\n",
       "   tweeted_in_weekend  user_created_in_weekend  possibly_sensitive_media  \\\n",
       "0                   1                        1                         0   \n",
       "1                   0                        0                         0   \n",
       "2                   1                        1                         0   \n",
       "3                   1                        0                         0   \n",
       "4                   1                        1                         1   \n",
       "\n",
       "   user_is_verified  ...  user_creation_tweet_diff  tweeted_in_daypart_day  \\\n",
       "0                 1  ...                  16384932                       0   \n",
       "1                 0  ...                 293776787                       1   \n",
       "2                 1  ...                   9039963                       0   \n",
       "3                 1  ...                 375950159                       0   \n",
       "4                 1  ...                   2470004                       0   \n",
       "\n",
       "   tweeted_in_daypart_evening  tweeted_in_daypart_morning  \\\n",
       "0                           1                           0   \n",
       "1                           0                           0   \n",
       "2                           1                           0   \n",
       "3                           0                           0   \n",
       "4                           1                           0   \n",
       "\n",
       "   tweeted_in_daypart_night  user_created_in_daypart_day  \\\n",
       "0                         0                            0   \n",
       "1                         0                            0   \n",
       "2                         0                            0   \n",
       "3                         1                            0   \n",
       "4                         0                            0   \n",
       "\n",
       "   user_created_in_daypart_evening  user_created_in_daypart_morning  \\\n",
       "0                                0                                1   \n",
       "1                                0                                1   \n",
       "2                                0                                1   \n",
       "3                                1                                0   \n",
       "4                                0                                1   \n",
       "\n",
       "   user_created_in_daypart_night  real_fake_grade  \n",
       "0                              0              1.0  \n",
       "1                              0             -1.0  \n",
       "2                              0              1.0  \n",
       "3                              0              1.0  \n",
       "4                              0              1.0  \n",
       "\n",
       "[5 rows x 41 columns]"
      ]
     },
     "execution_count": 4,
     "metadata": {},
     "output_type": "execute_result"
    }
   ],
   "source": [
    "binary_data.head()"
   ]
  },
  {
   "cell_type": "code",
   "execution_count": 5,
   "metadata": {},
   "outputs": [
    {
     "data": {
      "text/plain": [
       "Index(['user_translator_type', 'user_profile_location', 'has_user_url',\n",
       "       'sent_via_twitter', 'twitter_android_user', 'twitter_apple_user',\n",
       "       'tweeted_in_weekend', 'user_created_in_weekend',\n",
       "       'possibly_sensitive_media', 'user_is_verified',\n",
       "       'user_has_translation_enabled', 'user_has_default_profile',\n",
       "       'user_has_default_profile_image', 'has_pinned_tweet',\n",
       "       'user_has_custom_timeline', 'user_is_advertiser',\n",
       "       'user_service_level_analytics', 'user_service_level_dso',\n",
       "       'user_service_level_media_studio', 'user_service_level_mms',\n",
       "       'user_service_level_reseller', 'user_service_level_smb',\n",
       "       'user_service_level_subscription', 'tweet_contains_url',\n",
       "       'tweet_contains_media', 'user_decscription_has_urls', 'is_quoted_tweet',\n",
       "       'tweet_is_reply', 'part_of_thread', 'user_description_sentiment',\n",
       "       'tweet_sentiment', 'user_creation_tweet_diff', 'tweeted_in_daypart_day',\n",
       "       'tweeted_in_daypart_evening', 'tweeted_in_daypart_morning',\n",
       "       'tweeted_in_daypart_night', 'user_created_in_daypart_day',\n",
       "       'user_created_in_daypart_evening', 'user_created_in_daypart_morning',\n",
       "       'user_created_in_daypart_night', 'real_fake_grade'],\n",
       "      dtype='object')"
      ]
     },
     "execution_count": 5,
     "metadata": {},
     "output_type": "execute_result"
    }
   ],
   "source": [
    "binary_data.columns"
   ]
  },
  {
   "cell_type": "markdown",
   "metadata": {},
   "source": [
    "### T-toets\n",
    "\n",
    "H0: het gemiddelde van de real fake grade is voor beide groepen (1 en 0) van de verklarende variabele gelijk\n",
    "H1: het gemidelde van de real fake grade is voor beide groepen ongelijk \n",
    "\n",
    "significantie niveau = 0.05\n",
    "\n",
    "Omdat de steekproef omvang groter is dan 30 mogen we uitgaan van een normale verdeling van de variabelen. **Aanname dat variabelen onafhankelijk zijn klopt niet, bijvoorbeeld bij de variabelen met ochtend, middag, avond en nacht, die zijn namelijk sterk afhankelijk van elkaar. *Hoe gaan we daar mee om?***\n",
    "\n",
    "Hieronder wordt gebruik gemaakt van Welch's t-toetsen, deze corrigeert voor ongelijke varianties. \n",
    "\n",
    "##### Voorbeeld voor verified users"
   ]
  },
  {
   "cell_type": "code",
   "execution_count": 6,
   "metadata": {},
   "outputs": [],
   "source": [
    "group1 = binary_data[data['user_is_verified'] == 0]['real_fake_grade']\n",
    "group2 = binary_data[data['user_is_verified'] == 1]['real_fake_grade']\n"
   ]
  },
  {
   "cell_type": "code",
   "execution_count": 7,
   "metadata": {},
   "outputs": [],
   "source": [
    "import researchpy as rp"
   ]
  },
  {
   "cell_type": "code",
   "execution_count": 8,
   "metadata": {},
   "outputs": [],
   "source": [
    "des, res = rp.ttest(group1 = group1, group2=group2, group1_name= 'non_verified', group2_name='verified') # returns two dataframes"
   ]
  },
  {
   "cell_type": "code",
   "execution_count": 9,
   "metadata": {},
   "outputs": [
    {
     "data": {
      "text/plain": [
       "-31.3507"
      ]
     },
     "execution_count": 9,
     "metadata": {},
     "output_type": "execute_result"
    }
   ],
   "source": [
    "res['results'][2]"
   ]
  },
  {
   "cell_type": "code",
   "execution_count": 10,
   "metadata": {},
   "outputs": [
    {
     "data": {
      "text/html": [
       "<div>\n",
       "<style scoped>\n",
       "    .dataframe tbody tr th:only-of-type {\n",
       "        vertical-align: middle;\n",
       "    }\n",
       "\n",
       "    .dataframe tbody tr th {\n",
       "        vertical-align: top;\n",
       "    }\n",
       "\n",
       "    .dataframe thead th {\n",
       "        text-align: right;\n",
       "    }\n",
       "</style>\n",
       "<table border=\"1\" class=\"dataframe\">\n",
       "  <thead>\n",
       "    <tr style=\"text-align: right;\">\n",
       "      <th></th>\n",
       "      <th>t</th>\n",
       "      <th>p</th>\n",
       "    </tr>\n",
       "  </thead>\n",
       "  <tbody>\n",
       "    <tr>\n",
       "      <th>Independent t-test</th>\n",
       "      <td>t =</td>\n",
       "      <td>Two side test p value =</td>\n",
       "    </tr>\n",
       "    <tr>\n",
       "      <th>results</th>\n",
       "      <td>-31.3507</td>\n",
       "      <td>0.0</td>\n",
       "    </tr>\n",
       "  </tbody>\n",
       "</table>\n",
       "</div>"
      ],
      "text/plain": [
       "                          t                         p\n",
       "Independent t-test     t =   Two side test p value = \n",
       "results            -31.3507                       0.0"
      ]
     },
     "execution_count": 10,
     "metadata": {},
     "output_type": "execute_result"
    }
   ],
   "source": [
    "results = {}\n",
    "results['t'] = res.iloc[2,:]\n",
    "results['p'] = res.iloc[3,:]\n",
    "pd.DataFrame.from_dict(results)"
   ]
  },
  {
   "cell_type": "code",
   "execution_count": 11,
   "metadata": {},
   "outputs": [
    {
     "name": "stdout",
     "output_type": "stream",
     "text": [
      "user_translator_type\n",
      "user_profile_location\n",
      "has_user_url\n",
      "sent_via_twitter\n",
      "twitter_android_user\n",
      "twitter_apple_user\n",
      "tweeted_in_weekend\n",
      "user_created_in_weekend\n",
      "possibly_sensitive_media\n",
      "user_is_verified\n",
      "user_has_translation_enabled\n",
      "user_has_default_profile\n",
      "user_has_default_profile_image\n",
      "has_pinned_tweet\n",
      "user_has_custom_timeline\n",
      "user_is_advertiser\n",
      "user_service_level_analytics\n",
      "user_service_level_dso\n",
      "user_service_level_media_studio\n",
      "user_service_level_mms\n",
      "user_service_level_reseller\n",
      "user_service_level_smb\n",
      "user_service_level_subscription\n",
      "tweet_contains_url\n",
      "tweet_contains_media\n",
      "user_decscription_has_urls\n",
      "is_quoted_tweet\n",
      "tweet_is_reply\n",
      "part_of_thread\n",
      "user_description_sentiment\n",
      "tweet_sentiment\n",
      "user_creation_tweet_diff\n",
      "tweeted_in_daypart_day\n",
      "tweeted_in_daypart_evening\n",
      "tweeted_in_daypart_morning\n",
      "tweeted_in_daypart_night\n",
      "user_created_in_daypart_day\n",
      "user_created_in_daypart_evening\n",
      "user_created_in_daypart_morning\n",
      "user_created_in_daypart_night\n"
     ]
    }
   ],
   "source": [
    "def t_toets(col):\n",
    "    \n",
    "    # define groups\n",
    "    group1 = binary_data[data[col] == 0]['real_fake_grade']\n",
    "    group2 = binary_data[data[col] == 1]['real_fake_grade']\n",
    "\n",
    "    print(col)\n",
    "    # researchpy t test (compensates for unequal variances)\n",
    "    des, res = rp.ttest(group1 = group1, group2=group2) # returns two dataframes\n",
    "\n",
    "    t_waarde, p_waarde = res['results'][2], res['results'][3]\n",
    "    \n",
    "    return t_waarde, p_waarde\n",
    "\n",
    "results = {}\n",
    "results['feature'] = []\n",
    "results['t_waarde'] = []\n",
    "results['p_waarde'] = []\n",
    "\n",
    "for i in range(0, len(binary_data.columns)-1): # loopen over alle columns behalve real_fake_grade\n",
    "\n",
    "    col = binary_data.columns[i]\n",
    "\n",
    "    t_waarde, p_waarde = t_toets(col)\n",
    "    results['feature'].append(col)\n",
    "    results['t_waarde'].append(t_waarde)\n",
    "    results['p_waarde'].append(p_waarde)\n",
    "\n",
    "results_df = pd.DataFrame(results)"
   ]
  },
  {
   "cell_type": "code",
   "execution_count": 12,
   "metadata": {},
   "outputs": [],
   "source": [
    "results_df = results_df.sort_values(by = 'p_waarde', ascending=False)\n",
    "results_df = results_df.reset_index(drop=True)"
   ]
  },
  {
   "cell_type": "code",
   "execution_count": 13,
   "metadata": {},
   "outputs": [
    {
     "data": {
      "text/html": [
       "<div>\n",
       "<style scoped>\n",
       "    .dataframe tbody tr th:only-of-type {\n",
       "        vertical-align: middle;\n",
       "    }\n",
       "\n",
       "    .dataframe tbody tr th {\n",
       "        vertical-align: top;\n",
       "    }\n",
       "\n",
       "    .dataframe thead th {\n",
       "        text-align: right;\n",
       "    }\n",
       "</style>\n",
       "<table border=\"1\" class=\"dataframe\">\n",
       "  <thead>\n",
       "    <tr style=\"text-align: right;\">\n",
       "      <th></th>\n",
       "      <th>feature</th>\n",
       "      <th>t_waarde</th>\n",
       "      <th>p_waarde</th>\n",
       "    </tr>\n",
       "  </thead>\n",
       "  <tbody>\n",
       "    <tr>\n",
       "      <th>0</th>\n",
       "      <td>user_description_sentiment</td>\n",
       "      <td>0.0973</td>\n",
       "      <td>0.9225</td>\n",
       "    </tr>\n",
       "    <tr>\n",
       "      <th>1</th>\n",
       "      <td>user_created_in_daypart_night</td>\n",
       "      <td>0.2596</td>\n",
       "      <td>0.7952</td>\n",
       "    </tr>\n",
       "    <tr>\n",
       "      <th>2</th>\n",
       "      <td>user_profile_location</td>\n",
       "      <td>0.3334</td>\n",
       "      <td>0.7388</td>\n",
       "    </tr>\n",
       "    <tr>\n",
       "      <th>3</th>\n",
       "      <td>twitter_apple_user</td>\n",
       "      <td>0.7089</td>\n",
       "      <td>0.4784</td>\n",
       "    </tr>\n",
       "    <tr>\n",
       "      <th>4</th>\n",
       "      <td>user_created_in_daypart_morning</td>\n",
       "      <td>0.8067</td>\n",
       "      <td>0.4199</td>\n",
       "    </tr>\n",
       "    <tr>\n",
       "      <th>5</th>\n",
       "      <td>user_translator_type</td>\n",
       "      <td>-0.8285</td>\n",
       "      <td>0.4074</td>\n",
       "    </tr>\n",
       "    <tr>\n",
       "      <th>6</th>\n",
       "      <td>is_quoted_tweet</td>\n",
       "      <td>-1.1158</td>\n",
       "      <td>0.2645</td>\n",
       "    </tr>\n",
       "    <tr>\n",
       "      <th>7</th>\n",
       "      <td>user_service_level_subscription</td>\n",
       "      <td>-1.2080</td>\n",
       "      <td>0.2271</td>\n",
       "    </tr>\n",
       "    <tr>\n",
       "      <th>8</th>\n",
       "      <td>tweeted_in_daypart_night</td>\n",
       "      <td>-2.1894</td>\n",
       "      <td>0.0286</td>\n",
       "    </tr>\n",
       "    <tr>\n",
       "      <th>9</th>\n",
       "      <td>tweeted_in_weekend</td>\n",
       "      <td>2.9819</td>\n",
       "      <td>0.0029</td>\n",
       "    </tr>\n",
       "    <tr>\n",
       "      <th>10</th>\n",
       "      <td>tweeted_in_daypart_morning</td>\n",
       "      <td>-3.0133</td>\n",
       "      <td>0.0026</td>\n",
       "    </tr>\n",
       "    <tr>\n",
       "      <th>11</th>\n",
       "      <td>user_has_custom_timeline</td>\n",
       "      <td>3.1233</td>\n",
       "      <td>0.0018</td>\n",
       "    </tr>\n",
       "    <tr>\n",
       "      <th>12</th>\n",
       "      <td>possibly_sensitive_media</td>\n",
       "      <td>-3.1276</td>\n",
       "      <td>0.0018</td>\n",
       "    </tr>\n",
       "    <tr>\n",
       "      <th>13</th>\n",
       "      <td>user_has_translation_enabled</td>\n",
       "      <td>-11.0514</td>\n",
       "      <td>0.0000</td>\n",
       "    </tr>\n",
       "    <tr>\n",
       "      <th>14</th>\n",
       "      <td>user_decscription_has_urls</td>\n",
       "      <td>-7.0272</td>\n",
       "      <td>0.0000</td>\n",
       "    </tr>\n",
       "    <tr>\n",
       "      <th>15</th>\n",
       "      <td>has_user_url</td>\n",
       "      <td>-15.8527</td>\n",
       "      <td>0.0000</td>\n",
       "    </tr>\n",
       "    <tr>\n",
       "      <th>16</th>\n",
       "      <td>user_created_in_daypart_evening</td>\n",
       "      <td>-5.8277</td>\n",
       "      <td>0.0000</td>\n",
       "    </tr>\n",
       "    <tr>\n",
       "      <th>17</th>\n",
       "      <td>user_created_in_daypart_day</td>\n",
       "      <td>5.0800</td>\n",
       "      <td>0.0000</td>\n",
       "    </tr>\n",
       "    <tr>\n",
       "      <th>18</th>\n",
       "      <td>tweeted_in_daypart_evening</td>\n",
       "      <td>-7.0495</td>\n",
       "      <td>0.0000</td>\n",
       "    </tr>\n",
       "    <tr>\n",
       "      <th>19</th>\n",
       "      <td>tweeted_in_daypart_day</td>\n",
       "      <td>11.1145</td>\n",
       "      <td>0.0000</td>\n",
       "    </tr>\n",
       "    <tr>\n",
       "      <th>20</th>\n",
       "      <td>tweet_sentiment</td>\n",
       "      <td>-9.1621</td>\n",
       "      <td>0.0000</td>\n",
       "    </tr>\n",
       "    <tr>\n",
       "      <th>21</th>\n",
       "      <td>sent_via_twitter</td>\n",
       "      <td>4.4234</td>\n",
       "      <td>0.0000</td>\n",
       "    </tr>\n",
       "    <tr>\n",
       "      <th>22</th>\n",
       "      <td>part_of_thread</td>\n",
       "      <td>-23.9291</td>\n",
       "      <td>0.0000</td>\n",
       "    </tr>\n",
       "    <tr>\n",
       "      <th>23</th>\n",
       "      <td>tweet_is_reply</td>\n",
       "      <td>-12.6288</td>\n",
       "      <td>0.0000</td>\n",
       "    </tr>\n",
       "    <tr>\n",
       "      <th>24</th>\n",
       "      <td>user_is_verified</td>\n",
       "      <td>-31.3507</td>\n",
       "      <td>0.0000</td>\n",
       "    </tr>\n",
       "    <tr>\n",
       "      <th>25</th>\n",
       "      <td>tweet_contains_media</td>\n",
       "      <td>-12.6871</td>\n",
       "      <td>0.0000</td>\n",
       "    </tr>\n",
       "    <tr>\n",
       "      <th>26</th>\n",
       "      <td>user_has_default_profile</td>\n",
       "      <td>-8.9054</td>\n",
       "      <td>0.0000</td>\n",
       "    </tr>\n",
       "    <tr>\n",
       "      <th>27</th>\n",
       "      <td>tweet_contains_url</td>\n",
       "      <td>9.4667</td>\n",
       "      <td>0.0000</td>\n",
       "    </tr>\n",
       "    <tr>\n",
       "      <th>28</th>\n",
       "      <td>user_created_in_weekend</td>\n",
       "      <td>-4.3358</td>\n",
       "      <td>0.0000</td>\n",
       "    </tr>\n",
       "    <tr>\n",
       "      <th>29</th>\n",
       "      <td>user_service_level_smb</td>\n",
       "      <td>7.8814</td>\n",
       "      <td>0.0000</td>\n",
       "    </tr>\n",
       "    <tr>\n",
       "      <th>30</th>\n",
       "      <td>user_service_level_reseller</td>\n",
       "      <td>-7.0960</td>\n",
       "      <td>0.0000</td>\n",
       "    </tr>\n",
       "    <tr>\n",
       "      <th>31</th>\n",
       "      <td>twitter_android_user</td>\n",
       "      <td>5.9839</td>\n",
       "      <td>0.0000</td>\n",
       "    </tr>\n",
       "    <tr>\n",
       "      <th>32</th>\n",
       "      <td>user_service_level_media_studio</td>\n",
       "      <td>-20.1449</td>\n",
       "      <td>0.0000</td>\n",
       "    </tr>\n",
       "    <tr>\n",
       "      <th>33</th>\n",
       "      <td>user_service_level_dso</td>\n",
       "      <td>-15.1594</td>\n",
       "      <td>0.0000</td>\n",
       "    </tr>\n",
       "    <tr>\n",
       "      <th>34</th>\n",
       "      <td>user_service_level_analytics</td>\n",
       "      <td>9.0300</td>\n",
       "      <td>0.0000</td>\n",
       "    </tr>\n",
       "    <tr>\n",
       "      <th>35</th>\n",
       "      <td>user_is_advertiser</td>\n",
       "      <td>6.7501</td>\n",
       "      <td>0.0000</td>\n",
       "    </tr>\n",
       "    <tr>\n",
       "      <th>36</th>\n",
       "      <td>has_pinned_tweet</td>\n",
       "      <td>-15.5413</td>\n",
       "      <td>0.0000</td>\n",
       "    </tr>\n",
       "    <tr>\n",
       "      <th>37</th>\n",
       "      <td>user_has_default_profile_image</td>\n",
       "      <td>6.4203</td>\n",
       "      <td>0.0000</td>\n",
       "    </tr>\n",
       "    <tr>\n",
       "      <th>38</th>\n",
       "      <td>user_service_level_mms</td>\n",
       "      <td>-12.9569</td>\n",
       "      <td>0.0000</td>\n",
       "    </tr>\n",
       "    <tr>\n",
       "      <th>39</th>\n",
       "      <td>user_creation_tweet_diff</td>\n",
       "      <td>NaN</td>\n",
       "      <td>NaN</td>\n",
       "    </tr>\n",
       "  </tbody>\n",
       "</table>\n",
       "</div>"
      ],
      "text/plain": [
       "                            feature  t_waarde  p_waarde\n",
       "0        user_description_sentiment    0.0973    0.9225\n",
       "1     user_created_in_daypart_night    0.2596    0.7952\n",
       "2             user_profile_location    0.3334    0.7388\n",
       "3                twitter_apple_user    0.7089    0.4784\n",
       "4   user_created_in_daypart_morning    0.8067    0.4199\n",
       "5              user_translator_type   -0.8285    0.4074\n",
       "6                   is_quoted_tweet   -1.1158    0.2645\n",
       "7   user_service_level_subscription   -1.2080    0.2271\n",
       "8          tweeted_in_daypart_night   -2.1894    0.0286\n",
       "9                tweeted_in_weekend    2.9819    0.0029\n",
       "10       tweeted_in_daypart_morning   -3.0133    0.0026\n",
       "11         user_has_custom_timeline    3.1233    0.0018\n",
       "12         possibly_sensitive_media   -3.1276    0.0018\n",
       "13     user_has_translation_enabled  -11.0514    0.0000\n",
       "14       user_decscription_has_urls   -7.0272    0.0000\n",
       "15                     has_user_url  -15.8527    0.0000\n",
       "16  user_created_in_daypart_evening   -5.8277    0.0000\n",
       "17      user_created_in_daypart_day    5.0800    0.0000\n",
       "18       tweeted_in_daypart_evening   -7.0495    0.0000\n",
       "19           tweeted_in_daypart_day   11.1145    0.0000\n",
       "20                  tweet_sentiment   -9.1621    0.0000\n",
       "21                 sent_via_twitter    4.4234    0.0000\n",
       "22                   part_of_thread  -23.9291    0.0000\n",
       "23                   tweet_is_reply  -12.6288    0.0000\n",
       "24                 user_is_verified  -31.3507    0.0000\n",
       "25             tweet_contains_media  -12.6871    0.0000\n",
       "26         user_has_default_profile   -8.9054    0.0000\n",
       "27               tweet_contains_url    9.4667    0.0000\n",
       "28          user_created_in_weekend   -4.3358    0.0000\n",
       "29           user_service_level_smb    7.8814    0.0000\n",
       "30      user_service_level_reseller   -7.0960    0.0000\n",
       "31             twitter_android_user    5.9839    0.0000\n",
       "32  user_service_level_media_studio  -20.1449    0.0000\n",
       "33           user_service_level_dso  -15.1594    0.0000\n",
       "34     user_service_level_analytics    9.0300    0.0000\n",
       "35               user_is_advertiser    6.7501    0.0000\n",
       "36                 has_pinned_tweet  -15.5413    0.0000\n",
       "37   user_has_default_profile_image    6.4203    0.0000\n",
       "38           user_service_level_mms  -12.9569    0.0000\n",
       "39         user_creation_tweet_diff       NaN       NaN"
      ]
     },
     "execution_count": 13,
     "metadata": {},
     "output_type": "execute_result"
    }
   ],
   "source": [
    "results_df"
   ]
  },
  {
   "cell_type": "markdown",
   "metadata": {},
   "source": [
    "Nu zegt de uitkomst nog niet zo veel denk ik omdat er sterk afhankelijke variabelen in de dataset zitten zoals ochtend en avond etc. Daar nog even wat mee knoeien en dan dit opnieuw runnen. \n",
    "Hopsakee :)"
   ]
  },
  {
   "cell_type": "markdown",
   "metadata": {},
   "source": [
    "### Numerieke Variabelen \n",
    "\n",
    "- Histogrammen, is het normaal verdeeld? "
   ]
  },
  {
   "cell_type": "code",
   "execution_count": 14,
   "metadata": {},
   "outputs": [],
   "source": [
    "from scipy import stats\n",
    "from sklearn.feature_selection import SelectKBest, chi2\n",
    "from sklearn.model_selection import train_test_split"
   ]
  },
  {
   "cell_type": "code",
   "execution_count": 15,
   "metadata": {},
   "outputs": [],
   "source": [
    "data_chi2 = data[[  \n",
    "                 'real_fake_grade',           \n",
    "                 'tweet_contains_url',\n",
    "                 'user_service_level_analytics',\n",
    "                 'user_service_level_dso',\n",
    "                 'user_service_level_mms',\n",
    "                 'user_service_level_reseller',\n",
    "                 'user_service_level_smb',\n",
    "                 'user_service_level_subscription',                   \n",
    "                 'tweeted_in_weekend', \n",
    "                 'user_created_in_weekend',  \n",
    "                 'sent_via_twitter',           \n",
    "                 'twitter_android_user',              \n",
    "                 'twitter_apple_user',            \n",
    "                 'possibly_sensitive_media',       \n",
    "                 'user_is_verified',\n",
    "                 'user_has_translation_enabled',          \n",
    "                 'user_has_default_profile',\n",
    "                 'user_has_default_profile_image',\n",
    "                 'user_has_custom_timeline',\n",
    "                 'is_quoted_tweet',\n",
    "                 'has_pinned_tweet',\n",
    "                 'user_profile_location',\n",
    "                 'has_user_url',\n",
    "                 'tweet_contains_media',\n",
    "                 'tweet_is_reply',   \n",
    "                 'part_of_thread',\n",
    "                 'user_is_advertiser',\n",
    "                 'tweeted_in_daypart_day',\n",
    "                 'tweeted_in_daypart_evening',\n",
    "                 'tweeted_in_daypart_morning',             \n",
    "                 'tweeted_in_daypart_night',   \n",
    "                 'user_created_in_daypart_day',      \n",
    "                 'user_created_in_daypart_evening',\n",
    "                 'user_created_in_daypart_morning',           \n",
    "                 'user_created_in_daypart_night' \n",
    "                  ]] "
   ]
  },
  {
   "cell_type": "code",
   "execution_count": 16,
   "metadata": {},
   "outputs": [],
   "source": [
    "data_chi2['real_fake_grade'] = data_chi2['real_fake_grade'].replace([1], 2)\n",
    "data_chi2['real_fake_grade'] = data_chi2['real_fake_grade'].replace([0], 1)\n",
    "data_chi2['real_fake_grade'] = data_chi2['real_fake_grade'].replace([-1], 0)"
   ]
  },
  {
   "cell_type": "code",
   "execution_count": 17,
   "metadata": {},
   "outputs": [
    {
     "data": {
      "text/plain": [
       "2.0    4643\n",
       "0.0    2354\n",
       "1.0     908\n",
       "Name: real_fake_grade, dtype: int64"
      ]
     },
     "execution_count": 17,
     "metadata": {},
     "output_type": "execute_result"
    }
   ],
   "source": [
    "data_chi2['real_fake_grade'].value_counts()"
   ]
  },
  {
   "cell_type": "code",
   "execution_count": 18,
   "metadata": {},
   "outputs": [],
   "source": [
    "X = data_chi2.drop(labels=['real_fake_grade'], axis=1)\n",
    "y = data_chi2['real_fake_grade']"
   ]
  },
  {
   "cell_type": "code",
   "execution_count": 19,
   "metadata": {},
   "outputs": [],
   "source": [
    "X_train, X_test, y_train, y_test = train_test_split(\n",
    "    X,\n",
    "    y,\n",
    "    test_size=0.2,\n",
    "    random_state=0)"
   ]
  },
  {
   "cell_type": "code",
   "execution_count": 20,
   "metadata": {},
   "outputs": [
    {
     "data": {
      "text/plain": [
       "array([[0, 0, 0, ..., 0, 1, 0],\n",
       "       [1, 1, 0, ..., 0, 1, 0],\n",
       "       [0, 0, 0, ..., 0, 1, 0],\n",
       "       ...,\n",
       "       [0, 1, 0, ..., 1, 0, 0],\n",
       "       [0, 0, 0, ..., 0, 0, 1],\n",
       "       [1, 0, 0, ..., 0, 1, 0]], dtype=int64)"
      ]
     },
     "execution_count": 20,
     "metadata": {},
     "output_type": "execute_result"
    }
   ],
   "source": [
    "chi2_selector = SelectKBest(score_func=chi2, k='all')\n",
    "chi2_selector.fit_transform(X, y)"
   ]
  },
  {
   "cell_type": "code",
   "execution_count": 21,
   "metadata": {},
   "outputs": [
    {
     "name": "stdout",
     "output_type": "stream",
     "text": [
      "                     Input_Features       Score  P_Value\n",
      "13                 user_is_verified  679.309929   0.0000\n",
      "24                   part_of_thread  500.657815   0.0000\n",
      "2            user_service_level_dso  218.538391   0.0000\n",
      "22             tweet_contains_media  188.910815   0.0000\n",
      "3            user_service_level_mms  165.310468   0.0000\n",
      "23                   tweet_is_reply  160.327743   0.0000\n",
      "21                     has_user_url  155.745652   0.0000\n",
      "14     user_has_translation_enabled  127.609097   0.0000\n",
      "19                 has_pinned_tweet  114.072723   0.0000\n",
      "11               twitter_apple_user   92.730322   0.0000\n",
      "26           tweeted_in_daypart_day   81.877156   0.0000\n",
      "32  user_created_in_daypart_morning   73.805841   0.0000\n",
      "5            user_service_level_smb   66.014012   0.0000\n",
      "16   user_has_default_profile_image   62.772541   0.0000\n",
      "1      user_service_level_analytics   58.368827   0.0000\n",
      "4       user_service_level_reseller   55.029115   0.0000\n",
      "17         user_has_custom_timeline   53.317390   0.0000\n",
      "31  user_created_in_daypart_evening   51.805704   0.0000\n",
      "12         possibly_sensitive_media   51.594995   0.0000\n",
      "0                tweet_contains_url   42.954546   0.0000\n",
      "15         user_has_default_profile   41.350685   0.0000\n",
      "27       tweeted_in_daypart_evening   34.784931   0.0000\n",
      "10             twitter_android_user   32.002257   0.0000\n",
      "18                  is_quoted_tweet   28.728764   0.0000\n",
      "9                  sent_via_twitter   25.591589   0.0000\n",
      "30      user_created_in_daypart_day   21.721728   0.0000\n",
      "28       tweeted_in_daypart_morning   18.999249   0.0001\n",
      "7                tweeted_in_weekend   15.762742   0.0004\n",
      "8           user_created_in_weekend   14.911038   0.0006\n",
      "6   user_service_level_subscription   14.396692   0.0007\n",
      "25               user_is_advertiser   13.790056   0.0010\n",
      "29         tweeted_in_daypart_night   11.232404   0.0036\n",
      "33    user_created_in_daypart_night    3.909248   0.1416\n",
      "20            user_profile_location    3.847330   0.1461\n"
     ]
    }
   ],
   "source": [
    "features_score = pd.DataFrame(chi2_selector.scores_)\n",
    "features_pvalue = pd.DataFrame(np.round(chi2_selector.pvalues_,4))\n",
    "features = pd.DataFrame(X.columns)\n",
    "feature_score = pd.concat([features,features_score,features_pvalue],axis=1)\n",
    "# Assign the column name\n",
    "feature_score.columns = [\"Input_Features\",\"Score\",\"P_Value\"]\n",
    "print(feature_score.nlargest(46,columns=\"Score\"))"
   ]
  },
  {
   "cell_type": "markdown",
   "metadata": {},
   "source": [
    "van de chi2 krijgen we 2 waarde terug voor elke collom de P_Value en de chi2 score de P_Value krijgen we all van de T_Test maar de chi2 score kijkt hoe indepent de collomen zijn vergeleken met de real_fake_grade.  \n",
    "Hoe hoger de score hoe meer depent de collomen zijn.  \n",
    "Wat dit betekent is dat de collomen met laage indepense waarschijnlijk niet bijdragen aan het model"
   ]
  },
  {
   "cell_type": "markdown",
   "metadata": {},
   "source": [
    "### Nieuwe csv bestanden\n",
    "\n",
    "Hieronder worden de subsets ingeladen vanuit de map cleaned_data. De csv's zijn gemaakt in het bestand cleanup.ipynb. "
   ]
  },
  {
   "cell_type": "code",
   "execution_count": 22,
   "metadata": {},
   "outputs": [],
   "source": [
    "\n",
    "all_data = pd.read_csv('../data/cleaned_data/all_columns.csv')\n",
    "tweet_data = pd.read_csv('../data/cleaned_data/tweet_data_columns.csv')\n",
    "user_data = pd.read_csv('../data/cleaned_data/user_data_columns.csv')"
   ]
  },
  {
   "cell_type": "markdown",
   "metadata": {},
   "source": [
    "De kolommen die in de t-test een p-waarde hoger scoren dan 0.05 worden uit de dataset verwijderd omdat er niet genoeg aanleiding is om de nulhypothese te verwerpen. Dit betekent dat de waarschijnlijkheid groot is dat deze kolommen geen invloed uitoefenen op de resultaten van het model. Door ze te verwijderen hopen we ruis weg te nemen en de prestaties te verbeteren.  "
   ]
  },
  {
   "cell_type": "code",
   "execution_count": 23,
   "metadata": {},
   "outputs": [],
   "source": [
    "t_test_drop = list(results_df[0:7]['feature'])"
   ]
  },
  {
   "cell_type": "code",
   "execution_count": 24,
   "metadata": {},
   "outputs": [
    {
     "data": {
      "text/plain": [
       "['user_description_sentiment',\n",
       " 'user_created_in_daypart_night',\n",
       " 'user_profile_location',\n",
       " 'twitter_apple_user',\n",
       " 'user_created_in_daypart_morning',\n",
       " 'user_translator_type',\n",
       " 'is_quoted_tweet']"
      ]
     },
     "execution_count": 24,
     "metadata": {},
     "output_type": "execute_result"
    }
   ],
   "source": [
    "list(results_df[0:7]['feature'])"
   ]
  },
  {
   "cell_type": "markdown",
   "metadata": {},
   "source": [
    "Uit de chi^2 toets blijken twee variabelen een lage indepence te hebben gekoppeld aan een hoge p-waarde, *user_created_in_daypart_night* en *user_profile_location*. Deze zitten ook al de in variabelen die uit te t test een hoge p-waarde hebben dus die hoeven niet nog extra verwijderd te worden. "
   ]
  },
  {
   "cell_type": "markdown",
   "metadata": {},
   "source": [
    "UIt de correlatiematrix blijkt dat sommige variabelen onderling erg sterk correleren, wat ook ruis zou kunnen opleveren. De correlatiematrix is te vinden in cleanup.ipynb. Van alle paren variabelen met een onderlinge correlatie coefficient groter dan 0.8 wordt één variabele verwijderd. "
   ]
  },
  {
   "cell_type": "code",
   "execution_count": 25,
   "metadata": {},
   "outputs": [],
   "source": [
    "corr_drop = ['user_normal_followers_count', 'user_listed_count', 'favorite_count', 'user_service_level_mms']"
   ]
  },
  {
   "cell_type": "code",
   "execution_count": 26,
   "metadata": {},
   "outputs": [],
   "source": [
    "all_data_selected = all_data.drop(t_test_drop,  axis=1)"
   ]
  },
  {
   "cell_type": "code",
   "execution_count": 27,
   "metadata": {},
   "outputs": [],
   "source": [
    "all_data_selected = all_data_selected.drop(corr_drop,  axis=1)\n",
    "all_data_selected = all_data_selected.drop('Unnamed: 0',  axis=1)"
   ]
  },
  {
   "cell_type": "code",
   "execution_count": 28,
   "metadata": {},
   "outputs": [
    {
     "name": "stdout",
     "output_type": "stream",
     "text": [
      "shape voor feature selection: (7905, 56)\n",
      "shape na feature selection: (7905, 44)\n"
     ]
    }
   ],
   "source": [
    "print('shape voor feature selection:', all_data.shape)\n",
    "print('shape na feature selection:', all_data_selected.shape)\n",
    "\n",
    "# dus 12 kolommen verwijderd, waarvan 11 metadata en 1 unnamed:0"
   ]
  },
  {
   "cell_type": "markdown",
   "metadata": {},
   "source": [
    "In totaal zijn er 11 metadata kolommen uit all_data verwijderd"
   ]
  },
  {
   "cell_type": "code",
   "execution_count": 29,
   "metadata": {},
   "outputs": [],
   "source": [
    "tweet_drop = ['favorite_count', 'twitter_apple_user', 'is_quoted_tweet']\n",
    "user_drop = ['user_created_in_daypart_night',\n",
    "                'user_profile_location',\n",
    "                'user_created_in_daypart_morning',\n",
    "                'user_translator_type',\n",
    "                'user_service_level_subscription',\n",
    "                'user_listed_count', \n",
    "                'user_service_level_mms', \n",
    "                'user_normal_followers_count']"
   ]
  },
  {
   "cell_type": "code",
   "execution_count": 30,
   "metadata": {},
   "outputs": [],
   "source": [
    "tweet_data_selected = tweet_data.drop(tweet_drop, axis = 1)\n",
    "user_data_selected = user_data.drop(user_drop, axis = 1)"
   ]
  },
  {
   "cell_type": "code",
   "execution_count": 31,
   "metadata": {},
   "outputs": [
    {
     "name": "stdout",
     "output_type": "stream",
     "text": [
      "tweet metadata shape voor feature selection: (7905, 22)\n",
      "tweet metadata shape na feature selection: (7905, 19)\n"
     ]
    }
   ],
   "source": [
    "print('tweet metadata shape voor feature selection:', tweet_data.shape)\n",
    "print('tweet metadata shape na feature selection:', tweet_data_selected.shape)"
   ]
  },
  {
   "cell_type": "code",
   "execution_count": 32,
   "metadata": {},
   "outputs": [
    {
     "name": "stdout",
     "output_type": "stream",
     "text": [
      "user metadata shape voor feature selection: (7905, 33)\n",
      "user metadata shape na feature selection: (7905, 25)\n"
     ]
    }
   ],
   "source": [
    "print('user metadata shape voor feature selection:', user_data.shape)\n",
    "print('user metadata shape na feature selection:', user_data_selected.shape)"
   ]
  },
  {
   "cell_type": "markdown",
   "metadata": {},
   "source": [
    "Van de 11 verwijderde kolommen die uit de totale dataset verwijderd zijn zaten er 3 in de tweet data en 8 in user data. \n",
    "\n",
    "### Save to csv files"
   ]
  },
  {
   "cell_type": "code",
   "execution_count": 33,
   "metadata": {},
   "outputs": [],
   "source": [
    "directory = './selected_data'"
   ]
  },
  {
   "cell_type": "code",
   "execution_count": 34,
   "metadata": {},
   "outputs": [
    {
     "name": "stdout",
     "output_type": "stream",
     "text": [
      "Succesfully saved data to ./selected_data/all_data_selected.csv\n"
     ]
    }
   ],
   "source": [
    "# all data selected\n",
    "to_csv(all_data_selected, directory, 'all_data_selected.csv')"
   ]
  },
  {
   "cell_type": "code",
   "execution_count": 35,
   "metadata": {},
   "outputs": [
    {
     "name": "stdout",
     "output_type": "stream",
     "text": [
      "Succesfully saved data to ./selected_data/tweet_data_selected.csv\n"
     ]
    }
   ],
   "source": [
    "# tweet data selected\n",
    "to_csv(tweet_data_selected, directory, 'tweet_data_selected.csv')"
   ]
  },
  {
   "cell_type": "code",
   "execution_count": 36,
   "metadata": {},
   "outputs": [
    {
     "name": "stdout",
     "output_type": "stream",
     "text": [
      "Succesfully saved data to ./selected_data/user_data_selected.csv\n"
     ]
    }
   ],
   "source": [
    "# user data selected\n",
    "to_csv(user_data_selected, directory, 'user_data_selected.csv')"
   ]
  },
  {
   "cell_type": "code",
   "execution_count": null,
   "metadata": {},
   "outputs": [],
   "source": []
  }
 ],
 "metadata": {
  "kernelspec": {
   "display_name": "Python 3.10.2 64-bit",
   "language": "python",
   "name": "python3"
  },
  "language_info": {
   "codemirror_mode": {
    "name": "ipython",
    "version": 3
   },
   "file_extension": ".py",
   "mimetype": "text/x-python",
   "name": "python",
   "nbconvert_exporter": "python",
   "pygments_lexer": "ipython3",
   "version": "3.10.2"
  },
  "orig_nbformat": 4,
  "vscode": {
   "interpreter": {
    "hash": "4047f7eda800f5efa8437172d07800da7973adca17d077c4d1b0c239621dfa84"
   }
  }
 },
 "nbformat": 4,
 "nbformat_minor": 2
}
