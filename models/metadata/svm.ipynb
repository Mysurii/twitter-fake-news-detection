{
 "cells": [
  {
   "cell_type": "markdown",
   "metadata": {},
   "source": [
    "## SVM \n",
    "\n",
    "In dit notebook wordt een SVM model gefit op de metadata zonder tekst. In het script cleanup.ipynb zijn verschillende csv bestanden gemaakt die verschillende groepen metadata bevatten. In dit script worden deze afzonderlijke csv's gebruikt om te kijken hoe de prestaties onderling verschillen. \n",
    "\n",
    "Vervolgens worden de csv's uit feature_selection.ipynb gebruikt om mee te vergelijken. "
   ]
  },
  {
   "cell_type": "code",
   "execution_count": 1,
   "metadata": {},
   "outputs": [],
   "source": [
    "import pandas as pd\n",
    "import warnings\n",
    "import matplotlib.pyplot as plt\n",
    "warnings.filterwarnings('ignore')\n",
    "import numpy as np\n",
    "from sklearn.svm import SVC\n",
    "from sklearn.model_selection import train_test_split, RandomizedSearchCV, GridSearchCV\n",
    "from sklearn.preprocessing import StandardScaler\n",
    "from sklearn.metrics import accuracy_score, make_scorer, precision_score, recall_score, classification_report\n",
    "from sklearn.inspection import permutation_importance"
   ]
  },
  {
   "cell_type": "code",
   "execution_count": 2,
   "metadata": {},
   "outputs": [],
   "source": [
    "all_data = pd.read_csv('../../data/cleaned_data/all_columns.csv')"
   ]
  },
  {
   "cell_type": "code",
   "execution_count": 3,
   "metadata": {},
   "outputs": [],
   "source": [
    "# drop all text columns to keep only metadata without text\n",
    "all_data = all_data.drop(['full_text', 'user_description', 'username'], axis = 1)"
   ]
  },
  {
   "cell_type": "code",
   "execution_count": 4,
   "metadata": {},
   "outputs": [],
   "source": [
    "def RandomSearchSVM(data):\n",
    "    \"\"\"Splits the data into x_train, x_test, y_train, y_test, performs a randomsearch on SVM and calculates the accuracy score using\n",
    "       the best parameters.\"\"\"\n",
    "       \n",
    "    # select x and y from data\n",
    "    y = data.pop('real_fake_grade')\n",
    "    x = data\n",
    "    x = StandardScaler().fit_transform(x)\n",
    "\n",
    "    # split into train and test\n",
    "    x_train, x_test, y_train, y_test = train_test_split(x, y, test_size=0.20, random_state=42, stratify=y)\n",
    "\n",
    "    # perform Random Search with 7-fold CV and scoring on accuracy\n",
    "    svm_rs = RandomizedSearchCV(SVC(), \n",
    "                          param_distributions = {'kernel': ['linear', 'poly', 'rbf', 'sigmoid'],\n",
    "                                                'C': [0.5, 1, 1.5, 2]},\n",
    "                          cv = 7,\n",
    "                          scoring = make_scorer(accuracy_score)) \n",
    "\n",
    "    # fit the model\n",
    "    svm_rs.fit(x_train, y_train)\n",
    "    print('Best parameters:\\n', svm_rs.best_params_)\n",
    "    print()\n",
    "\n",
    "    # make prediction with best parameters\n",
    "    y_pred = svm_rs.best_estimator_.predict(x_test)\n",
    "\n",
    "     # calculate accuracy score, precision and recall\n",
    "    print('Accuracy score:', accuracy_score(y_test, y_pred))\n",
    "    print('precision score:', precision_score(y_test, y_pred, average = 'macro')) # unweighted mean of all classes\n",
    "    print('recall score:', recall_score(y_test, y_pred, average = 'macro')) # unweighted mean of all classes\n",
    "\n",
    "    # classification report\n",
    "    report = classification_report(y_test, y_pred, output_dict=True)\n",
    "    report_df = pd.DataFrame(report).transpose()\n",
    "    print(report_df)\n",
    "\n",
    "    "
   ]
  },
  {
   "cell_type": "markdown",
   "metadata": {},
   "source": [
    "#### 1. Alle metadata"
   ]
  },
  {
   "cell_type": "code",
   "execution_count": 5,
   "metadata": {},
   "outputs": [
    {
     "name": "stdout",
     "output_type": "stream",
     "text": [
      "Best paramaters:\n",
      " {'kernel': 'rbf', 'C': 1}\n",
      "\n",
      "Accuracy score: 0.7343453510436433\n"
     ]
    }
   ],
   "source": [
    "RandomSearchSVM(all_data)"
   ]
  },
  {
   "cell_type": "markdown",
   "metadata": {},
   "source": [
    "#### 2. Tweet_data_columns\n"
   ]
  },
  {
   "cell_type": "code",
   "execution_count": 7,
   "metadata": {},
   "outputs": [],
   "source": [
    "tweet_data = pd.read_csv('../../data/cleaned_data/tweet_data_columns.csv')"
   ]
  },
  {
   "cell_type": "code",
   "execution_count": 8,
   "metadata": {},
   "outputs": [],
   "source": [
    "tweet_data = tweet_data.drop('Unnamed: 0', axis = 1)"
   ]
  },
  {
   "cell_type": "code",
   "execution_count": 9,
   "metadata": {},
   "outputs": [
    {
     "name": "stdout",
     "output_type": "stream",
     "text": [
      "Best paramaters:\n",
      " {'kernel': 'rbf', 'C': 2}\n",
      "\n",
      "Accuracy score: 0.6584440227703985\n"
     ]
    }
   ],
   "source": [
    "RandomSearchSVM(tweet_data)"
   ]
  },
  {
   "cell_type": "markdown",
   "metadata": {},
   "source": [
    "#### 3. User_data_columns\n",
    "\n",
    "De random search op user_data levert geen resultaat op, hij blijft maar door runnen. Daarom is er een voorspelling gemaakt met de standaardinstellingen van de SVM. "
   ]
  },
  {
   "cell_type": "code",
   "execution_count": 2,
   "metadata": {},
   "outputs": [],
   "source": [
    "user_data = pd.read_csv('../../data/cleaned_data/user_data_columns.csv')"
   ]
  },
  {
   "cell_type": "code",
   "execution_count": 3,
   "metadata": {},
   "outputs": [],
   "source": [
    "user_data = user_data.drop('Unnamed: 0', axis = 1)"
   ]
  },
  {
   "cell_type": "code",
   "execution_count": 4,
   "metadata": {},
   "outputs": [],
   "source": [
    "y = user_data.pop('real_fake_grade')\n",
    "x = user_data\n",
    "x = StandardScaler().fit_transform(x)\n",
    "\n",
    "# split into train and test\n",
    "x_train, x_test, y_train, y_test = train_test_split(x, y, test_size=0.20, random_state=42, stratify=y)"
   ]
  },
  {
   "cell_type": "code",
   "execution_count": 5,
   "metadata": {},
   "outputs": [
    {
     "name": "stdout",
     "output_type": "stream",
     "text": [
      "              precision    recall  f1-score      support\n",
      "-1.0           0.689655  0.467091  0.556962   471.000000\n",
      "0.0            0.750000  0.016484  0.032258   182.000000\n",
      "1.0            0.678060  0.919181  0.780421   928.000000\n",
      "accuracy       0.680582  0.680582  0.680582     0.680582\n",
      "macro avg      0.705905  0.467585  0.456547  1581.000000\n",
      "weighted avg   0.689796  0.680582  0.627723  1581.000000\n"
     ]
    }
   ],
   "source": [
    "svm_user = SVC().fit(x_train, y_train)\n",
    "y_pred = svm_user.predict(x_test)\n",
    "\n",
    "report = classification_report(y_test, y_pred, output_dict=True)\n",
    "report_df = pd.DataFrame(report).transpose()\n",
    "print(report_df)"
   ]
  },
  {
   "cell_type": "code",
   "execution_count": null,
   "metadata": {},
   "outputs": [],
   "source": []
  },
  {
   "cell_type": "code",
   "execution_count": null,
   "metadata": {},
   "outputs": [],
   "source": []
  },
  {
   "cell_type": "markdown",
   "metadata": {},
   "source": [
    "## Resultaten op data met feature selection\n",
    "\n",
    "De datasets die hieronder gebruikt worden zijn afkomstig van het script feature_selection.ipynb.\n",
    "\n",
    "### All data selected"
   ]
  },
  {
   "cell_type": "code",
   "execution_count": 6,
   "metadata": {},
   "outputs": [],
   "source": [
    "all_data_selected = pd.read_csv('../../data/selected_data/all_data_selected.csv')\n",
    "all_data_selected = all_data_selected.drop([ 'Unnamed: 0', 'full_text', 'user_description', 'username'], axis = 1)\n"
   ]
  },
  {
   "cell_type": "code",
   "execution_count": 7,
   "metadata": {},
   "outputs": [
    {
     "name": "stdout",
     "output_type": "stream",
     "text": [
      "Best parameters:\n",
      " {'kernel': 'rbf', 'C': 1.5}\n",
      "\n",
      "Accuracy score: 0.7216951296647691\n",
      "precision score: 0.6465429845904298\n",
      "recall score: 0.5248601667995474\n",
      "              precision    recall  f1-score      support\n",
      "-1.0           0.710462  0.619958  0.662132   471.000000\n",
      "0.0            0.500000  0.049451  0.090000   182.000000\n",
      "1.0            0.729167  0.905172  0.807692   928.000000\n",
      "accuracy       0.721695  0.721695  0.721695     0.721695\n",
      "macro avg      0.646543  0.524860  0.519941  1581.000000\n",
      "weighted avg   0.697213  0.721695  0.681709  1581.000000\n"
     ]
    }
   ],
   "source": [
    "RandomSearchSVM(all_data_selected)"
   ]
  },
  {
   "cell_type": "markdown",
   "metadata": {},
   "source": [
    "#### Permutation Importance"
   ]
  },
  {
   "cell_type": "code",
   "execution_count": 3,
   "metadata": {},
   "outputs": [
    {
     "data": {
      "image/png": "[encoded data removed]",
      "text/plain": [
       "<Figure size 432x288 with 1 Axes>"
      ]
     },
     "metadata": {
      "needs_background": "light"
     },
     "output_type": "display_data"
    }
   ],
   "source": [
    "all_data_selected = pd.read_csv('../../data/selected_data/all_data_selected.csv')\n",
    "all_data_selected = all_data_selected.drop([ 'Unnamed: 0', 'full_text', 'user_description', 'username'], axis = 1)\n",
    "\n",
    "# select x and y from data\n",
    "y = all_data_selected.pop('real_fake_grade')\n",
    "x = all_data_selected\n",
    "x = StandardScaler().fit_transform(x)\n",
    "\n",
    "# split into train and test\n",
    "x_train, x_test, y_train, y_test = train_test_split(x, y, test_size=0.20, random_state=42, stratify=y)\n",
    "\n",
    "model = SVC(kernel = 'rbf', C=2).fit(x_train, y_train) # zelfde parameter waarden als uit _best_params_ van randomsearch\n",
    "\n",
    "result = permutation_importance(\n",
    "    model, x_test, y_test, n_repeats=10, random_state=42, n_jobs=2,\n",
    ")\n",
    "\n",
    "sorted_importances_idx = result.importances_mean.argsort()\n",
    "importances = pd.DataFrame(\n",
    "    result.importances[sorted_importances_idx].T,\n",
    "    columns=all_data_selected.columns[sorted_importances_idx],\n",
    ")\n",
    "\n",
    "importances = importances.iloc[:,30:]\n",
    "\n",
    "ax = importances.plot.box(vert=False, whis=10)\n",
    "ax.set_title(\"Permutation Importances SVM voor all data selected\")\n",
    "ax.axvline(x=0, color=\"k\", linestyle=\"--\")\n",
    "ax.set_xlabel(\"Decrease in accuracy score\")\n",
    "ax.figure.tight_layout()\n",
    "plt.xlim(0,0.03)\n",
    "\n",
    "plt.show()"
   ]
  },
  {
   "cell_type": "markdown",
   "metadata": {},
   "source": [
    "### Tweet data selected"
   ]
  },
  {
   "cell_type": "code",
   "execution_count": 7,
   "metadata": {},
   "outputs": [
    {
     "name": "stdout",
     "output_type": "stream",
     "text": [
      "Best parameters:\n",
      " {'kernel': 'rbf', 'C': 1.5}\n",
      "\n",
      "Accuracy score: 0.6913345983554712\n",
      "precision score: 0.608722971049472\n",
      "recall score: 0.49697117178036354\n",
      "              precision    recall  f1-score      support\n",
      "-1.0           0.662304  0.537155  0.593200   471.000000\n",
      "0.0            0.458333  0.060440  0.106796   182.000000\n",
      "1.0            0.705532  0.893319  0.788398   928.000000\n",
      "accuracy       0.691335  0.691335  0.691335     0.691335\n",
      "macro avg      0.608723  0.496971  0.496131  1581.000000\n",
      "weighted avg   0.664197  0.691335  0.651782  1581.000000\n"
     ]
    }
   ],
   "source": [
    "tweet_data_selected = pd.read_csv('../../data/selected_data/tweet_data_selected.csv')\n",
    "RandomSearchSVM(tweet_data_selected)\n"
   ]
  },
  {
   "cell_type": "markdown",
   "metadata": {},
   "source": [
    "### User data selected"
   ]
  },
  {
   "cell_type": "code",
   "execution_count": 8,
   "metadata": {},
   "outputs": [
    {
     "name": "stdout",
     "output_type": "stream",
     "text": [
      "Best parameters:\n",
      " {'kernel': 'rbf', 'C': 2}\n",
      "\n",
      "Accuracy score: 0.7216951296647691\n",
      "precision score: 0.6588042508986275\n",
      "recall score: 0.5130461235021415\n",
      "              precision    recall  f1-score      support\n",
      "-1.0           0.766017  0.583864  0.662651   471.000000\n",
      "0.0            0.500000  0.027473  0.052083   182.000000\n",
      "1.0            0.710396  0.927802  0.804673   928.000000\n",
      "accuracy       0.721695  0.721695  0.721695     0.721695\n",
      "macro avg      0.658804  0.513046  0.506469  1581.000000\n",
      "weighted avg   0.702746  0.721695  0.675727  1581.000000\n"
     ]
    }
   ],
   "source": [
    "user_data_selected = pd.read_csv('../../data/selected_data/user_data_selected.csv')\n",
    "RandomSearchSVM(user_data_selected)"
   ]
  }
 ],
 "metadata": {
  "interpreter": {
   "hash": "79301205a4f603ace7142d303537d2aa6502a34bcb2ffc4e98f98ecde2683c52"
  },
  "kernelspec": {
   "display_name": "Python 3.10.2 64-bit",
   "language": "python",
   "name": "python3"
  },
  "language_info": {
   "codemirror_mode": {
    "name": "ipython",
    "version": 3
   },
   "file_extension": ".py",
   "mimetype": "text/x-python",
   "name": "python",
   "nbconvert_exporter": "python",
   "pygments_lexer": "ipython3",
   "version": "3.10.2"
  },
  "orig_nbformat": 4
 },
 "nbformat": 4,
 "nbformat_minor": 2
}
