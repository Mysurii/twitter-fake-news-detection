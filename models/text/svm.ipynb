{
 "cells": [
  {
   "cell_type": "markdown",
   "metadata": {},
   "source": [
    "# SVM\n",
    "\n",
    "### Import libraries"
   ]
  },
  {
   "cell_type": "code",
   "execution_count": 68,
   "metadata": {},
   "outputs": [],
   "source": [
    "from time import time\n",
    "import pandas as pd\n",
    "\n",
    "from sklearn.feature_extraction.text import TfidfVectorizer\n",
    "from sklearn.model_selection import train_test_split\n",
    "from sklearn.svm import SVC\n",
    "from sklearn.metrics import accuracy_score\n",
    "from sklearn.model_selection import GridSearchCV\n",
    "import pickle\n",
    "\n",
    "import warnings\n",
    "warnings.filterwarnings('ignore')"
   ]
  },
  {
   "cell_type": "code",
   "execution_count": 69,
   "metadata": {},
   "outputs": [],
   "source": [
    "FOLDER_PATH_2022 = '../../data/cleaned_data/cleaned_text_data_2022.csv'\n",
    "FOLDER_PATH_2021 = '../../data/cleaned_data/clean_text_2021.csv'"
   ]
  },
  {
   "cell_type": "markdown",
   "metadata": {},
   "source": [
    "### Load data"
   ]
  },
  {
   "cell_type": "code",
   "execution_count": 70,
   "metadata": {},
   "outputs": [
    {
     "data": {
      "text/plain": [
       "((7903, 4), (13521, 3))"
      ]
     },
     "execution_count": 70,
     "metadata": {},
     "output_type": "execute_result"
    }
   ],
   "source": [
    "df_2022 = pd.read_csv(FOLDER_PATH_2022)\n",
    "df_2021 = pd.read_csv(FOLDER_PATH_2021)\n",
    "\n",
    "df_2022.shape, df_2021.shape"
   ]
  },
  {
   "cell_type": "markdown",
   "metadata": {},
   "source": [
    "### Preprocessing"
   ]
  },
  {
   "cell_type": "code",
   "execution_count": 71,
   "metadata": {},
   "outputs": [],
   "source": [
    "df_2021['real_fake_grade'] = df_2021['label']\n",
    "\n",
    "df_2021.drop('label', axis=1, inplace=True)"
   ]
  },
  {
   "cell_type": "markdown",
   "metadata": {},
   "source": [
    "### Model"
   ]
  },
  {
   "cell_type": "code",
   "execution_count": 74,
   "metadata": {},
   "outputs": [],
   "source": [
    "def retrieve_data(column_name: str, data_name: pd.DataFrame):\n",
    "    \"\"\"Returned vectorized data gesplistst in train en test\"\"\"\n",
    "\n",
    "    if column_name not in data_name.columns:\n",
    "        raise Exception(f\"{column_name} not in dataframe\")\n",
    "\n",
    "    # Maak X en y variabelen aan\n",
    "    X = data_name[column_name]\n",
    "    y = data_name['real_fake_grade']\n",
    "\n",
    "\n",
    "    X_train, X_test, y_train, y_test = train_test_split(X, y, test_size=0.25, random_state=42, stratify=y)\n",
    "\n",
    "    vectorizer = TfidfVectorizer()\n",
    "    #\n",
    "    X_train = vectorizer.fit_transform(X_train)\n",
    "    X_test = vectorizer.transform(X_test)\n",
    "\n",
    "    return (X_train, y_train), (X_test, y_test)\n",
    "\n",
    "def get_best_params(train_data, test_data):\n",
    "    \"\"\"De functie doet een gridsearch op een aantal random parameters en returned de beste resultaat ervan\"\"\"\n",
    "    params = {\n",
    "        'probability': [True, False],\n",
    "        'C': [0.01, 0.1, 1, 10, 100, 1000],\n",
    "        'gamma': [1, 'auto', 'scale'],\n",
    "        'kernel': ['rbf', 'linear', 'poly', 'sigmoid']\n",
    "    }\n",
    "\n",
    "    grid = GridSearchCV(SVC(), params, cv=7, n_jobs=-1)\n",
    "\n",
    "    result = grid.fit(train_data, test_data)\n",
    "\n",
    "    return result.best_params_\n",
    "    "
   ]
  },
  {
   "cell_type": "markdown",
   "metadata": {},
   "source": [
    "#### Tweet"
   ]
  },
  {
   "cell_type": "markdown",
   "metadata": {},
   "source": [
    "##### Dataset 2022"
   ]
  },
  {
   "cell_type": "code",
   "execution_count": 75,
   "metadata": {},
   "outputs": [],
   "source": [
    "(X_train, y_train), (X_test, y_test) = retrieve_data('full_text', df_2022)"
   ]
  },
  {
   "cell_type": "code",
   "execution_count": 76,
   "metadata": {},
   "outputs": [
    {
     "data": {
      "text/plain": [
       "(((5927, 14679), (5927,)), ((1976, 14679), (1976,)))"
      ]
     },
     "execution_count": 76,
     "metadata": {},
     "output_type": "execute_result"
    }
   ],
   "source": [
    "(X_train.shape, y_train.shape), (X_test.shape, y_test.shape)"
   ]
  },
  {
   "cell_type": "code",
   "execution_count": 21,
   "metadata": {},
   "outputs": [
    {
     "data": {
      "text/plain": [
       "{'C': 10, 'gamma': 1, 'kernel': 'rbf', 'probability': True}"
      ]
     },
     "execution_count": 21,
     "metadata": {},
     "output_type": "execute_result"
    }
   ],
   "source": [
    "user_info_best_params = get_best_params(X_train, y_train)\n",
    "user_info_best_params"
   ]
  },
  {
   "cell_type": "code",
   "execution_count": 77,
   "metadata": {},
   "outputs": [],
   "source": [
    "svc_tweet_2022 = SVC(probability=True, C=10, gamma=1, kernel='rbf')\n",
    "\n",
    "start = time()\n",
    "\n",
    "svc_tweet_2022.fit(X_train, y_train)\n",
    "end = time()\n",
    "\n",
    "svc_time = end - start"
   ]
  },
  {
   "cell_type": "code",
   "execution_count": 78,
   "metadata": {},
   "outputs": [],
   "source": [
    "start = time()\n",
    "svc_tweet_2022 = svc_tweet_2022.predict(X_test)\n",
    "end = time()\n",
    "\n",
    "svc_tweet_2022_test_time = end - start\n",
    "svc_tweet_2022_acc = accuracy_score(y_test, svc_tweet_2022)"
   ]
  },
  {
   "cell_type": "code",
   "execution_count": 79,
   "metadata": {},
   "outputs": [
    {
     "name": "stdout",
     "output_type": "stream",
     "text": [
      "Train time: 42.79423785209656\n",
      "Test time: 1.9230480194091797\n",
      "Accuracy: 0.763663967611336\n"
     ]
    }
   ],
   "source": [
    "print(f\"Train time: {svc_time}\")\n",
    "print(f\"Test time: {svc_tweet_2022_test_time}\")\n",
    "print(f\"Accuracy: {svc_tweet_2022_acc}\")"
   ]
  },
  {
   "cell_type": "markdown",
   "metadata": {},
   "source": [
    "##### Dataset 2021"
   ]
  },
  {
   "cell_type": "code",
   "execution_count": 80,
   "metadata": {},
   "outputs": [],
   "source": [
    "(X_train, y_train), (X_test, y_test) = retrieve_data('text', df_2021)"
   ]
  },
  {
   "cell_type": "code",
   "execution_count": 81,
   "metadata": {},
   "outputs": [],
   "source": [
    "svc_tweet_2021 = SVC(probability=True, C=25, gamma=1, kernel='rbf')\n",
    "\n",
    "start = time()\n",
    "\n",
    "svc_tweet_2021.fit(X_train, y_train)\n",
    "end = time()\n",
    "\n",
    "svc_tweet_time_2021 = end - start"
   ]
  },
  {
   "cell_type": "code",
   "execution_count": 82,
   "metadata": {},
   "outputs": [],
   "source": [
    "start = time()\n",
    "pred = svc_tweet_2021.predict(X_test)\n",
    "end = time()\n",
    "\n",
    "tweet_2021_test_time = end - start\n",
    "tweet_acc_score_2021 = accuracy_score(y_test, pred)"
   ]
  },
  {
   "cell_type": "code",
   "execution_count": 83,
   "metadata": {},
   "outputs": [
    {
     "name": "stdout",
     "output_type": "stream",
     "text": [
      "Train time: 91.1470558643341\n",
      "Test time: 3.3451499938964844\n",
      "Accuracy: 0.8402839396628217\n"
     ]
    }
   ],
   "source": [
    "print(f\"Train time: {svc_tweet_time_2021}\")\n",
    "print(f\"Test time: {tweet_2021_test_time}\")\n",
    "print(f\"Accuracy: {tweet_acc_score_2021}\")"
   ]
  },
  {
   "cell_type": "markdown",
   "metadata": {},
   "source": [
    "**Insights**\n",
    "\n",
    "- Dataset van 2021 krijgt een grotere accuracy, doordat het dubbel de data bevat."
   ]
  },
  {
   "cell_type": "markdown",
   "metadata": {},
   "source": [
    "#### Text metadata"
   ]
  },
  {
   "cell_type": "code",
   "execution_count": 84,
   "metadata": {},
   "outputs": [],
   "source": [
    "(X_train, y_train), (X_test, y_test) = retrieve_data('text_metadata', df_2022)"
   ]
  },
  {
   "cell_type": "code",
   "execution_count": 29,
   "metadata": {},
   "outputs": [
    {
     "data": {
      "text/plain": [
       "{'C': 10, 'gamma': 'scale', 'kernel': 'rbf', 'probability': True}"
      ]
     },
     "execution_count": 29,
     "metadata": {},
     "output_type": "execute_result"
    }
   ],
   "source": [
    "user_info_best_params = get_best_params(X_train, y_train)\n",
    "user_info_best_params"
   ]
  },
  {
   "cell_type": "code",
   "execution_count": 85,
   "metadata": {},
   "outputs": [],
   "source": [
    "svc_text_metadata = SVC(C=10, gamma='scale', kernel='rbf', probability=True)\n",
    "\n",
    "start = time()\n",
    "\n",
    "svc_text_metadata.fit(X_train, y_train)\n",
    "end = time()\n",
    "\n",
    "text_metadata_time = end - start"
   ]
  },
  {
   "cell_type": "code",
   "execution_count": 86,
   "metadata": {},
   "outputs": [],
   "source": [
    "start = time()\n",
    "pred = svc_text_metadata.predict(X_test)\n",
    "end = time()\n",
    "\n",
    "svc_test_metadata_test_time = end - start\n",
    "\n",
    "text_metadata_acc = accuracy_score(y_test, pred)"
   ]
  },
  {
   "cell_type": "code",
   "execution_count": 87,
   "metadata": {},
   "outputs": [
    {
     "name": "stdout",
     "output_type": "stream",
     "text": [
      "Train time: 14.951473236083984\n",
      "Test time: 0.7032508850097656\n",
      "Accuracy: 0.7252024291497976\n"
     ]
    }
   ],
   "source": [
    "print(f\"Train time: {text_metadata_time}\")\n",
    "print(f\"Test time: {svc_test_metadata_test_time}\")\n",
    "print(f\"Accuracy: {text_metadata_acc}\")"
   ]
  },
  {
   "cell_type": "markdown",
   "metadata": {},
   "source": [
    "### Combined"
   ]
  },
  {
   "cell_type": "code",
   "execution_count": 88,
   "metadata": {},
   "outputs": [],
   "source": [
    "(X_train, y_train), (X_test, y_test) = retrieve_data('combined', df_2022)"
   ]
  },
  {
   "cell_type": "code",
   "execution_count": 34,
   "metadata": {},
   "outputs": [
    {
     "data": {
      "text/plain": [
       "{'C': 1, 'gamma': 1, 'kernel': 'linear', 'probability': True}"
      ]
     },
     "execution_count": 34,
     "metadata": {},
     "output_type": "execute_result"
    }
   ],
   "source": [
    "combined_best_params = get_best_params(X_train, y_train)\n",
    "combined_best_params"
   ]
  },
  {
   "cell_type": "code",
   "execution_count": 89,
   "metadata": {},
   "outputs": [],
   "source": [
    "svc_combined = SVC(C=1, gamma=1, kernel='linear', probability=True)\n",
    "\n",
    "start = time()\n",
    "\n",
    "svc_combined.fit(X_train, y_train)\n",
    "end = time()\n",
    "\n",
    "conbimed_time = end - start"
   ]
  },
  {
   "cell_type": "code",
   "execution_count": 90,
   "metadata": {},
   "outputs": [],
   "source": [
    "start = time()\n",
    "pred = svc_combined.predict(X_test)\n",
    "end = time()\n",
    "\n",
    "svc_combined_test_time = end - start\n",
    "svc_combined_acc = accuracy_score(y_test, pred)"
   ]
  },
  {
   "cell_type": "code",
   "execution_count": 92,
   "metadata": {},
   "outputs": [
    {
     "name": "stdout",
     "output_type": "stream",
     "text": [
      "Train time: 35.44808387756348\n",
      "Test time: 1.6490418910980225\n",
      "Accuracy: 0.8061740890688259\n"
     ]
    }
   ],
   "source": [
    "print(f\"Train time: {conbimed_time}\")\n",
    "print(f\"Test time: {svc_combined_test_time}\")\n",
    "print(f\"Accuracy: {svc_combined_acc}\")"
   ]
  },
  {
   "cell_type": "markdown",
   "metadata": {},
   "source": [
    "### Resultaten\n",
    "\n",
    "|      \t| accuracy \t| training time (s)     \t| test time  (s)|\n",
    "|------\t|-------------\t|-------\t| ------|\n",
    "| Tweet 2021 \t| 0.84      \t|  91 | 3.4|\n",
    "| Tweet 2022    \t| 0.76        |43\t| 1.92 |\n",
    "| Text metadata    \t| 0.73      |15 \t| 0.7|\n",
    "| Combined    \t| 0.806        \t| 35| 1.7|"
   ]
  },
  {
   "cell_type": "markdown",
   "metadata": {},
   "source": [
    "### Conclusie\n",
    "\n",
    "Dataset van 2021 krijgt de hoogste accuracy. Alleen wordt deze niet gebruikt vanwege het feit dat het geen metadata bevat. Combined geeft ook al een accuracy van 81%. Hoger dan gesplitst."
   ]
  },
  {
   "cell_type": "markdown",
   "metadata": {},
   "source": [
    "### Save model"
   ]
  },
  {
   "cell_type": "code",
   "execution_count": 67,
   "metadata": {},
   "outputs": [],
   "source": [
    "pickle.dump(svc_combined, open(\"./results/svm/svm_model_combined.pickle\", 'wb'))\n",
    "pickle.dump(svc_text_metadata, open(\"./results/svm/svm_model_text_metadata.pickle\", 'wb'))\n",
    "pickle.dump(svc_tweet_2022, open(\"./results/svm/svm_model_tweet_2022.pickle\", 'wb'))"
   ]
  }
 ],
 "metadata": {
  "interpreter": {
   "hash": "055079195073658a51114928e756d4a43022fc1e84eb762010fcf721cf3a9eca"
  },
  "kernelspec": {
   "display_name": "Python 3.9.10 ('base')",
   "language": "python",
   "name": "python3"
  },
  "language_info": {
   "codemirror_mode": {
    "name": "ipython",
    "version": 3
   },
   "file_extension": ".py",
   "mimetype": "text/x-python",
   "name": "python",
   "nbconvert_exporter": "python",
   "pygments_lexer": "ipython3",
   "version": "3.8.13"
  },
  "orig_nbformat": 4
 },
 "nbformat": 4,
 "nbformat_minor": 2
}
